{
 "cells": [
  {
   "cell_type": "markdown",
   "metadata": {
    "id": "3yIkaTgAJVxl"
   },
   "source": [
    "# STAT 7240 Text Analytics\n",
    "## Final Project\n",
    "\n",
    "**Project Description:** This project embodies the spirit of exploration and application of advanced text analysis techniques on novel datasets not covered in the course. Utilizing the FinancialPhraseBank dataset, the project aims to delve into the intricacies of financial news headlines by applying topic modeling to uncover underlying themes, sentiment analysis to gauge emotional undertones, and various classification models to categorize the data effectively. By employing word embeddings obtained from BERT and training new ones, the project seeks to unearth and map out the nuanced relationships between terms used in the financial lexicon. The ultimate goal is to construct models that can accurately predict the sentiment of financial news, providing valuable insights from the perspective of retail investors.\n",
    "\n",
    "\n",
    "**Author:** Cheng-Ying Wu"
   ]
  },
  {
   "cell_type": "code",
   "execution_count": 1,
   "metadata": {
    "colab": {
     "base_uri": "https://localhost:8080/"
    },
    "id": "z6wWbRrIw-jP",
    "outputId": "d08854ee-827c-4a9f-fa15-d251a0964761"
   },
   "outputs": [
    {
     "name": "stdout",
     "output_type": "stream",
     "text": [
      "Requirement already satisfied: transformers in /usr/local/lib/python3.10/dist-packages (4.35.2)\n",
      "Requirement already satisfied: filelock in /usr/local/lib/python3.10/dist-packages (from transformers) (3.13.1)\n",
      "Requirement already satisfied: huggingface-hub<1.0,>=0.16.4 in /usr/local/lib/python3.10/dist-packages (from transformers) (0.19.4)\n",
      "Requirement already satisfied: numpy>=1.17 in /usr/local/lib/python3.10/dist-packages (from transformers) (1.23.5)\n",
      "Requirement already satisfied: packaging>=20.0 in /usr/local/lib/python3.10/dist-packages (from transformers) (23.2)\n",
      "Requirement already satisfied: pyyaml>=5.1 in /usr/local/lib/python3.10/dist-packages (from transformers) (6.0.1)\n",
      "Requirement already satisfied: regex!=2019.12.17 in /usr/local/lib/python3.10/dist-packages (from transformers) (2023.6.3)\n",
      "Requirement already satisfied: requests in /usr/local/lib/python3.10/dist-packages (from transformers) (2.31.0)\n",
      "Requirement already satisfied: tokenizers<0.19,>=0.14 in /usr/local/lib/python3.10/dist-packages (from transformers) (0.15.0)\n",
      "Requirement already satisfied: safetensors>=0.3.1 in /usr/local/lib/python3.10/dist-packages (from transformers) (0.4.1)\n",
      "Requirement already satisfied: tqdm>=4.27 in /usr/local/lib/python3.10/dist-packages (from transformers) (4.66.1)\n",
      "Requirement already satisfied: fsspec>=2023.5.0 in /usr/local/lib/python3.10/dist-packages (from huggingface-hub<1.0,>=0.16.4->transformers) (2023.6.0)\n",
      "Requirement already satisfied: typing-extensions>=3.7.4.3 in /usr/local/lib/python3.10/dist-packages (from huggingface-hub<1.0,>=0.16.4->transformers) (4.5.0)\n",
      "Requirement already satisfied: charset-normalizer<4,>=2 in /usr/local/lib/python3.10/dist-packages (from requests->transformers) (3.3.2)\n",
      "Requirement already satisfied: idna<4,>=2.5 in /usr/local/lib/python3.10/dist-packages (from requests->transformers) (3.6)\n",
      "Requirement already satisfied: urllib3<3,>=1.21.1 in /usr/local/lib/python3.10/dist-packages (from requests->transformers) (2.0.7)\n",
      "Requirement already satisfied: certifi>=2017.4.17 in /usr/local/lib/python3.10/dist-packages (from requests->transformers) (2023.11.17)\n"
     ]
    }
   ],
   "source": [
    "!pip install transformers"
   ]
  },
  {
   "cell_type": "code",
   "execution_count": 2,
   "metadata": {
    "colab": {
     "base_uri": "https://localhost:8080/"
    },
    "id": "LNU9145hOx7U",
    "outputId": "b30e19df-8516-4ff3-dffc-e2cc61d4e23a"
   },
   "outputs": [
    {
     "name": "stderr",
     "output_type": "stream",
     "text": [
      "[nltk_data] Downloading package punkt to /root/nltk_data...\n",
      "[nltk_data]   Package punkt is already up-to-date!\n",
      "[nltk_data] Downloading package stopwords to /root/nltk_data...\n",
      "[nltk_data]   Package stopwords is already up-to-date!\n"
     ]
    },
    {
     "data": {
      "text/plain": [
       "True"
      ]
     },
     "execution_count": 2,
     "metadata": {},
     "output_type": "execute_result"
    }
   ],
   "source": [
    "# Packages Used\n",
    "import pandas as pd\n",
    "import re\n",
    "import pandas as pd\n",
    "from nltk.tokenize import word_tokenize\n",
    "from nltk.corpus import stopwords\n",
    "import nltk\n",
    "import matplotlib.pyplot as plt\n",
    "import seaborn as sns\n",
    "import numpy as np\n",
    "import torch\n",
    "import torch.nn as nn\n",
    "import torch.optim as optim\n",
    "from collections import Counter\n",
    "from keras.preprocessing.text import Tokenizer\n",
    "from keras.preprocessing.sequence import pad_sequences\n",
    "from sklearn.model_selection import train_test_split\n",
    "from sklearn.linear_model import LogisticRegression\n",
    "from sklearn.tree import DecisionTreeClassifier\n",
    "from sklearn.ensemble import RandomForestClassifier, GradientBoostingClassifier\n",
    "from sklearn.naive_bayes import GaussianNB\n",
    "from xgboost import XGBClassifier\n",
    "from sklearn.metrics import accuracy_score, precision_score, recall_score, f1_score\n",
    "from sklearn.model_selection import GridSearchCV\n",
    "from sklearn.metrics import classification_report\n",
    "from transformers import BertTokenizer, BertModel\n",
    "from torch.utils.data import TensorDataset, DataLoader\n",
    "from tqdm import tqdm\n",
    "\n",
    "nltk.download('punkt')\n",
    "nltk.download('stopwords')"
   ]
  },
  {
   "cell_type": "markdown",
   "metadata": {
    "id": "9LMgx1JsJrTU"
   },
   "source": [
    "## **Data, Extraction, and Preprocessing**"
   ]
  },
  {
   "cell_type": "markdown",
   "metadata": {
    "id": "wAxizYTnLXcG"
   },
   "source": [
    "### Data Source\n",
    "\n",
    "Sentiment Analysis for Financial News (FinancialPhraseBank)\n",
    "*   **Kaggle Link:** https://www.kaggle.com/datasets/ankurzing/sentiment-analysis-for-financial-news/data\n",
    "*   **Data Origin:** The data originates from the FinancialPhraseBank, which is publicly available on Kaggle. The dataset specifically aims to reflect the sentiments found in financial news headlines from the perspective of a retail investor"
   ]
  },
  {
   "cell_type": "code",
   "execution_count": 3,
   "metadata": {
    "colab": {
     "base_uri": "https://localhost:8080/",
     "height": 423
    },
    "id": "uvEli8E_Em9m",
    "outputId": "8c6cf6a0-b628-4b08-f648-0f1f74e1ef60"
   },
   "outputs": [
    {
     "data": {
      "text/html": [
       "\n",
       "  <div id=\"df-9a463b9b-96d0-4f22-a64b-b633dccfb671\" class=\"colab-df-container\">\n",
       "    <div>\n",
       "<style scoped>\n",
       "    .dataframe tbody tr th:only-of-type {\n",
       "        vertical-align: middle;\n",
       "    }\n",
       "\n",
       "    .dataframe tbody tr th {\n",
       "        vertical-align: top;\n",
       "    }\n",
       "\n",
       "    .dataframe thead th {\n",
       "        text-align: right;\n",
       "    }\n",
       "</style>\n",
       "<table border=\"1\" class=\"dataframe\">\n",
       "  <thead>\n",
       "    <tr style=\"text-align: right;\">\n",
       "      <th></th>\n",
       "      <th>Sentiment</th>\n",
       "      <th>Text</th>\n",
       "    </tr>\n",
       "  </thead>\n",
       "  <tbody>\n",
       "    <tr>\n",
       "      <th>0</th>\n",
       "      <td>neutral</td>\n",
       "      <td>According to Gran , the company has no plans t...</td>\n",
       "    </tr>\n",
       "    <tr>\n",
       "      <th>1</th>\n",
       "      <td>neutral</td>\n",
       "      <td>Technopolis plans to develop in stages an area...</td>\n",
       "    </tr>\n",
       "    <tr>\n",
       "      <th>2</th>\n",
       "      <td>negative</td>\n",
       "      <td>The international electronic industry company ...</td>\n",
       "    </tr>\n",
       "    <tr>\n",
       "      <th>3</th>\n",
       "      <td>positive</td>\n",
       "      <td>With the new production plant the company woul...</td>\n",
       "    </tr>\n",
       "    <tr>\n",
       "      <th>4</th>\n",
       "      <td>positive</td>\n",
       "      <td>According to the company 's updated strategy f...</td>\n",
       "    </tr>\n",
       "    <tr>\n",
       "      <th>...</th>\n",
       "      <td>...</td>\n",
       "      <td>...</td>\n",
       "    </tr>\n",
       "    <tr>\n",
       "      <th>4841</th>\n",
       "      <td>negative</td>\n",
       "      <td>LONDON MarketWatch -- Share prices ended lower...</td>\n",
       "    </tr>\n",
       "    <tr>\n",
       "      <th>4842</th>\n",
       "      <td>neutral</td>\n",
       "      <td>Rinkuskiai 's beer sales fell by 6.5 per cent ...</td>\n",
       "    </tr>\n",
       "    <tr>\n",
       "      <th>4843</th>\n",
       "      <td>negative</td>\n",
       "      <td>Operating profit fell to EUR 35.4 mn from EUR ...</td>\n",
       "    </tr>\n",
       "    <tr>\n",
       "      <th>4844</th>\n",
       "      <td>negative</td>\n",
       "      <td>Net sales of the Paper segment decreased to EU...</td>\n",
       "    </tr>\n",
       "    <tr>\n",
       "      <th>4845</th>\n",
       "      <td>negative</td>\n",
       "      <td>Sales in Finland decreased by 10.5 % in Januar...</td>\n",
       "    </tr>\n",
       "  </tbody>\n",
       "</table>\n",
       "<p>4846 rows × 2 columns</p>\n",
       "</div>\n",
       "    <div class=\"colab-df-buttons\">\n",
       "\n",
       "  <div class=\"colab-df-container\">\n",
       "    <button class=\"colab-df-convert\" onclick=\"convertToInteractive('df-9a463b9b-96d0-4f22-a64b-b633dccfb671')\"\n",
       "            title=\"Convert this dataframe to an interactive table.\"\n",
       "            style=\"display:none;\">\n",
       "\n",
       "  <svg xmlns=\"http://www.w3.org/2000/svg\" height=\"24px\" viewBox=\"0 -960 960 960\">\n",
       "    <path d=\"M120-120v-720h720v720H120Zm60-500h600v-160H180v160Zm220 220h160v-160H400v160Zm0 220h160v-160H400v160ZM180-400h160v-160H180v160Zm440 0h160v-160H620v160ZM180-180h160v-160H180v160Zm440 0h160v-160H620v160Z\"/>\n",
       "  </svg>\n",
       "    </button>\n",
       "\n",
       "  <style>\n",
       "    .colab-df-container {\n",
       "      display:flex;\n",
       "      gap: 12px;\n",
       "    }\n",
       "\n",
       "    .colab-df-convert {\n",
       "      background-color: #E8F0FE;\n",
       "      border: none;\n",
       "      border-radius: 50%;\n",
       "      cursor: pointer;\n",
       "      display: none;\n",
       "      fill: #1967D2;\n",
       "      height: 32px;\n",
       "      padding: 0 0 0 0;\n",
       "      width: 32px;\n",
       "    }\n",
       "\n",
       "    .colab-df-convert:hover {\n",
       "      background-color: #E2EBFA;\n",
       "      box-shadow: 0px 1px 2px rgba(60, 64, 67, 0.3), 0px 1px 3px 1px rgba(60, 64, 67, 0.15);\n",
       "      fill: #174EA6;\n",
       "    }\n",
       "\n",
       "    .colab-df-buttons div {\n",
       "      margin-bottom: 4px;\n",
       "    }\n",
       "\n",
       "    [theme=dark] .colab-df-convert {\n",
       "      background-color: #3B4455;\n",
       "      fill: #D2E3FC;\n",
       "    }\n",
       "\n",
       "    [theme=dark] .colab-df-convert:hover {\n",
       "      background-color: #434B5C;\n",
       "      box-shadow: 0px 1px 3px 1px rgba(0, 0, 0, 0.15);\n",
       "      filter: drop-shadow(0px 1px 2px rgba(0, 0, 0, 0.3));\n",
       "      fill: #FFFFFF;\n",
       "    }\n",
       "  </style>\n",
       "\n",
       "    <script>\n",
       "      const buttonEl =\n",
       "        document.querySelector('#df-9a463b9b-96d0-4f22-a64b-b633dccfb671 button.colab-df-convert');\n",
       "      buttonEl.style.display =\n",
       "        google.colab.kernel.accessAllowed ? 'block' : 'none';\n",
       "\n",
       "      async function convertToInteractive(key) {\n",
       "        const element = document.querySelector('#df-9a463b9b-96d0-4f22-a64b-b633dccfb671');\n",
       "        const dataTable =\n",
       "          await google.colab.kernel.invokeFunction('convertToInteractive',\n",
       "                                                    [key], {});\n",
       "        if (!dataTable) return;\n",
       "\n",
       "        const docLinkHtml = 'Like what you see? Visit the ' +\n",
       "          '<a target=\"_blank\" href=https://colab.research.google.com/notebooks/data_table.ipynb>data table notebook</a>'\n",
       "          + ' to learn more about interactive tables.';\n",
       "        element.innerHTML = '';\n",
       "        dataTable['output_type'] = 'display_data';\n",
       "        await google.colab.output.renderOutput(dataTable, element);\n",
       "        const docLink = document.createElement('div');\n",
       "        docLink.innerHTML = docLinkHtml;\n",
       "        element.appendChild(docLink);\n",
       "      }\n",
       "    </script>\n",
       "  </div>\n",
       "\n",
       "\n",
       "<div id=\"df-cfecff74-39df-4fc7-be57-1ca68946f163\">\n",
       "  <button class=\"colab-df-quickchart\" onclick=\"quickchart('df-cfecff74-39df-4fc7-be57-1ca68946f163')\"\n",
       "            title=\"Suggest charts\"\n",
       "            style=\"display:none;\">\n",
       "\n",
       "<svg xmlns=\"http://www.w3.org/2000/svg\" height=\"24px\"viewBox=\"0 0 24 24\"\n",
       "     width=\"24px\">\n",
       "    <g>\n",
       "        <path d=\"M19 3H5c-1.1 0-2 .9-2 2v14c0 1.1.9 2 2 2h14c1.1 0 2-.9 2-2V5c0-1.1-.9-2-2-2zM9 17H7v-7h2v7zm4 0h-2V7h2v10zm4 0h-2v-4h2v4z\"/>\n",
       "    </g>\n",
       "</svg>\n",
       "  </button>\n",
       "\n",
       "<style>\n",
       "  .colab-df-quickchart {\n",
       "      --bg-color: #E8F0FE;\n",
       "      --fill-color: #1967D2;\n",
       "      --hover-bg-color: #E2EBFA;\n",
       "      --hover-fill-color: #174EA6;\n",
       "      --disabled-fill-color: #AAA;\n",
       "      --disabled-bg-color: #DDD;\n",
       "  }\n",
       "\n",
       "  [theme=dark] .colab-df-quickchart {\n",
       "      --bg-color: #3B4455;\n",
       "      --fill-color: #D2E3FC;\n",
       "      --hover-bg-color: #434B5C;\n",
       "      --hover-fill-color: #FFFFFF;\n",
       "      --disabled-bg-color: #3B4455;\n",
       "      --disabled-fill-color: #666;\n",
       "  }\n",
       "\n",
       "  .colab-df-quickchart {\n",
       "    background-color: var(--bg-color);\n",
       "    border: none;\n",
       "    border-radius: 50%;\n",
       "    cursor: pointer;\n",
       "    display: none;\n",
       "    fill: var(--fill-color);\n",
       "    height: 32px;\n",
       "    padding: 0;\n",
       "    width: 32px;\n",
       "  }\n",
       "\n",
       "  .colab-df-quickchart:hover {\n",
       "    background-color: var(--hover-bg-color);\n",
       "    box-shadow: 0 1px 2px rgba(60, 64, 67, 0.3), 0 1px 3px 1px rgba(60, 64, 67, 0.15);\n",
       "    fill: var(--button-hover-fill-color);\n",
       "  }\n",
       "\n",
       "  .colab-df-quickchart-complete:disabled,\n",
       "  .colab-df-quickchart-complete:disabled:hover {\n",
       "    background-color: var(--disabled-bg-color);\n",
       "    fill: var(--disabled-fill-color);\n",
       "    box-shadow: none;\n",
       "  }\n",
       "\n",
       "  .colab-df-spinner {\n",
       "    border: 2px solid var(--fill-color);\n",
       "    border-color: transparent;\n",
       "    border-bottom-color: var(--fill-color);\n",
       "    animation:\n",
       "      spin 1s steps(1) infinite;\n",
       "  }\n",
       "\n",
       "  @keyframes spin {\n",
       "    0% {\n",
       "      border-color: transparent;\n",
       "      border-bottom-color: var(--fill-color);\n",
       "      border-left-color: var(--fill-color);\n",
       "    }\n",
       "    20% {\n",
       "      border-color: transparent;\n",
       "      border-left-color: var(--fill-color);\n",
       "      border-top-color: var(--fill-color);\n",
       "    }\n",
       "    30% {\n",
       "      border-color: transparent;\n",
       "      border-left-color: var(--fill-color);\n",
       "      border-top-color: var(--fill-color);\n",
       "      border-right-color: var(--fill-color);\n",
       "    }\n",
       "    40% {\n",
       "      border-color: transparent;\n",
       "      border-right-color: var(--fill-color);\n",
       "      border-top-color: var(--fill-color);\n",
       "    }\n",
       "    60% {\n",
       "      border-color: transparent;\n",
       "      border-right-color: var(--fill-color);\n",
       "    }\n",
       "    80% {\n",
       "      border-color: transparent;\n",
       "      border-right-color: var(--fill-color);\n",
       "      border-bottom-color: var(--fill-color);\n",
       "    }\n",
       "    90% {\n",
       "      border-color: transparent;\n",
       "      border-bottom-color: var(--fill-color);\n",
       "    }\n",
       "  }\n",
       "</style>\n",
       "\n",
       "  <script>\n",
       "    async function quickchart(key) {\n",
       "      const quickchartButtonEl =\n",
       "        document.querySelector('#' + key + ' button');\n",
       "      quickchartButtonEl.disabled = true;  // To prevent multiple clicks.\n",
       "      quickchartButtonEl.classList.add('colab-df-spinner');\n",
       "      try {\n",
       "        const charts = await google.colab.kernel.invokeFunction(\n",
       "            'suggestCharts', [key], {});\n",
       "      } catch (error) {\n",
       "        console.error('Error during call to suggestCharts:', error);\n",
       "      }\n",
       "      quickchartButtonEl.classList.remove('colab-df-spinner');\n",
       "      quickchartButtonEl.classList.add('colab-df-quickchart-complete');\n",
       "    }\n",
       "    (() => {\n",
       "      let quickchartButtonEl =\n",
       "        document.querySelector('#df-cfecff74-39df-4fc7-be57-1ca68946f163 button');\n",
       "      quickchartButtonEl.style.display =\n",
       "        google.colab.kernel.accessAllowed ? 'block' : 'none';\n",
       "    })();\n",
       "  </script>\n",
       "</div>\n",
       "    </div>\n",
       "  </div>\n"
      ],
      "text/plain": [
       "     Sentiment                                               Text\n",
       "0      neutral  According to Gran , the company has no plans t...\n",
       "1      neutral  Technopolis plans to develop in stages an area...\n",
       "2     negative  The international electronic industry company ...\n",
       "3     positive  With the new production plant the company woul...\n",
       "4     positive  According to the company 's updated strategy f...\n",
       "...        ...                                                ...\n",
       "4841  negative  LONDON MarketWatch -- Share prices ended lower...\n",
       "4842   neutral  Rinkuskiai 's beer sales fell by 6.5 per cent ...\n",
       "4843  negative  Operating profit fell to EUR 35.4 mn from EUR ...\n",
       "4844  negative  Net sales of the Paper segment decreased to EU...\n",
       "4845  negative  Sales in Finland decreased by 10.5 % in Januar...\n",
       "\n",
       "[4846 rows x 2 columns]"
      ]
     },
     "execution_count": 3,
     "metadata": {},
     "output_type": "execute_result"
    }
   ],
   "source": [
    "# Load the data from the downloaded CSV file from Kaggle\n",
    "data = pd.read_csv('/content/all-data.csv', encoding='unicode_escape', names=['Sentiment', 'Text'])\n",
    "data"
   ]
  },
  {
   "cell_type": "markdown",
   "metadata": {
    "id": "-sN-Ans-QLfE"
   },
   "source": [
    "### Extraction & Preprocessing"
   ]
  },
  {
   "cell_type": "code",
   "execution_count": 4,
   "metadata": {
    "id": "SF28NBLaSSWD"
   },
   "outputs": [],
   "source": [
    "# Preprocessing function for news headlines\n",
    "def preprocess_headline(text):\n",
    "    # Remove URLs\n",
    "    text = re.sub(r\"http\\S+|www\\S+|https\\S+\", '', text, flags=re.MULTILINE)\n",
    "\n",
    "    # Remove punctuations\n",
    "    text = re.sub(r'[^\\w\\s]', '', text)\n",
    "\n",
    "    # Convert to lowercase\n",
    "    text = text.lower().strip()\n",
    "    return text\n",
    "\n",
    "# Tokenizing function for news headlines\n",
    "def tokenize_headline(text):\n",
    "    tokens = word_tokenize(text)\n",
    "\n",
    "    # Remove stopwords\n",
    "    stopwords_english = stopwords.words('english')\n",
    "    tokens_cleaned = [word for word in tokens if word not in stopwords_english]\n",
    "    return tokens_cleaned"
   ]
  },
  {
   "cell_type": "code",
   "execution_count": 5,
   "metadata": {
    "colab": {
     "base_uri": "https://localhost:8080/",
     "height": 206
    },
    "id": "UKba-FtIS3zH",
    "outputId": "13c4fb5a-5757-49ed-849d-0a53597a5c7e"
   },
   "outputs": [
    {
     "data": {
      "text/html": [
       "\n",
       "  <div id=\"df-e957b630-a01c-4330-aad6-3dbd04a7af4c\" class=\"colab-df-container\">\n",
       "    <div>\n",
       "<style scoped>\n",
       "    .dataframe tbody tr th:only-of-type {\n",
       "        vertical-align: middle;\n",
       "    }\n",
       "\n",
       "    .dataframe tbody tr th {\n",
       "        vertical-align: top;\n",
       "    }\n",
       "\n",
       "    .dataframe thead th {\n",
       "        text-align: right;\n",
       "    }\n",
       "</style>\n",
       "<table border=\"1\" class=\"dataframe\">\n",
       "  <thead>\n",
       "    <tr style=\"text-align: right;\">\n",
       "      <th></th>\n",
       "      <th>Sentiment</th>\n",
       "      <th>Text</th>\n",
       "      <th>headline_cleaned</th>\n",
       "      <th>headline_tokens</th>\n",
       "    </tr>\n",
       "  </thead>\n",
       "  <tbody>\n",
       "    <tr>\n",
       "      <th>0</th>\n",
       "      <td>neutral</td>\n",
       "      <td>According to Gran , the company has no plans t...</td>\n",
       "      <td>according to gran  the company has no plans to...</td>\n",
       "      <td>[according, gran, company, plans, move, produc...</td>\n",
       "    </tr>\n",
       "    <tr>\n",
       "      <th>1</th>\n",
       "      <td>neutral</td>\n",
       "      <td>Technopolis plans to develop in stages an area...</td>\n",
       "      <td>technopolis plans to develop in stages an area...</td>\n",
       "      <td>[technopolis, plans, develop, stages, area, le...</td>\n",
       "    </tr>\n",
       "    <tr>\n",
       "      <th>2</th>\n",
       "      <td>negative</td>\n",
       "      <td>The international electronic industry company ...</td>\n",
       "      <td>the international electronic industry company ...</td>\n",
       "      <td>[international, electronic, industry, company,...</td>\n",
       "    </tr>\n",
       "    <tr>\n",
       "      <th>3</th>\n",
       "      <td>positive</td>\n",
       "      <td>With the new production plant the company woul...</td>\n",
       "      <td>with the new production plant the company woul...</td>\n",
       "      <td>[new, production, plant, company, would, incre...</td>\n",
       "    </tr>\n",
       "    <tr>\n",
       "      <th>4</th>\n",
       "      <td>positive</td>\n",
       "      <td>According to the company 's updated strategy f...</td>\n",
       "      <td>according to the company s updated strategy fo...</td>\n",
       "      <td>[according, company, updated, strategy, years,...</td>\n",
       "    </tr>\n",
       "  </tbody>\n",
       "</table>\n",
       "</div>\n",
       "    <div class=\"colab-df-buttons\">\n",
       "\n",
       "  <div class=\"colab-df-container\">\n",
       "    <button class=\"colab-df-convert\" onclick=\"convertToInteractive('df-e957b630-a01c-4330-aad6-3dbd04a7af4c')\"\n",
       "            title=\"Convert this dataframe to an interactive table.\"\n",
       "            style=\"display:none;\">\n",
       "\n",
       "  <svg xmlns=\"http://www.w3.org/2000/svg\" height=\"24px\" viewBox=\"0 -960 960 960\">\n",
       "    <path d=\"M120-120v-720h720v720H120Zm60-500h600v-160H180v160Zm220 220h160v-160H400v160Zm0 220h160v-160H400v160ZM180-400h160v-160H180v160Zm440 0h160v-160H620v160ZM180-180h160v-160H180v160Zm440 0h160v-160H620v160Z\"/>\n",
       "  </svg>\n",
       "    </button>\n",
       "\n",
       "  <style>\n",
       "    .colab-df-container {\n",
       "      display:flex;\n",
       "      gap: 12px;\n",
       "    }\n",
       "\n",
       "    .colab-df-convert {\n",
       "      background-color: #E8F0FE;\n",
       "      border: none;\n",
       "      border-radius: 50%;\n",
       "      cursor: pointer;\n",
       "      display: none;\n",
       "      fill: #1967D2;\n",
       "      height: 32px;\n",
       "      padding: 0 0 0 0;\n",
       "      width: 32px;\n",
       "    }\n",
       "\n",
       "    .colab-df-convert:hover {\n",
       "      background-color: #E2EBFA;\n",
       "      box-shadow: 0px 1px 2px rgba(60, 64, 67, 0.3), 0px 1px 3px 1px rgba(60, 64, 67, 0.15);\n",
       "      fill: #174EA6;\n",
       "    }\n",
       "\n",
       "    .colab-df-buttons div {\n",
       "      margin-bottom: 4px;\n",
       "    }\n",
       "\n",
       "    [theme=dark] .colab-df-convert {\n",
       "      background-color: #3B4455;\n",
       "      fill: #D2E3FC;\n",
       "    }\n",
       "\n",
       "    [theme=dark] .colab-df-convert:hover {\n",
       "      background-color: #434B5C;\n",
       "      box-shadow: 0px 1px 3px 1px rgba(0, 0, 0, 0.15);\n",
       "      filter: drop-shadow(0px 1px 2px rgba(0, 0, 0, 0.3));\n",
       "      fill: #FFFFFF;\n",
       "    }\n",
       "  </style>\n",
       "\n",
       "    <script>\n",
       "      const buttonEl =\n",
       "        document.querySelector('#df-e957b630-a01c-4330-aad6-3dbd04a7af4c button.colab-df-convert');\n",
       "      buttonEl.style.display =\n",
       "        google.colab.kernel.accessAllowed ? 'block' : 'none';\n",
       "\n",
       "      async function convertToInteractive(key) {\n",
       "        const element = document.querySelector('#df-e957b630-a01c-4330-aad6-3dbd04a7af4c');\n",
       "        const dataTable =\n",
       "          await google.colab.kernel.invokeFunction('convertToInteractive',\n",
       "                                                    [key], {});\n",
       "        if (!dataTable) return;\n",
       "\n",
       "        const docLinkHtml = 'Like what you see? Visit the ' +\n",
       "          '<a target=\"_blank\" href=https://colab.research.google.com/notebooks/data_table.ipynb>data table notebook</a>'\n",
       "          + ' to learn more about interactive tables.';\n",
       "        element.innerHTML = '';\n",
       "        dataTable['output_type'] = 'display_data';\n",
       "        await google.colab.output.renderOutput(dataTable, element);\n",
       "        const docLink = document.createElement('div');\n",
       "        docLink.innerHTML = docLinkHtml;\n",
       "        element.appendChild(docLink);\n",
       "      }\n",
       "    </script>\n",
       "  </div>\n",
       "\n",
       "\n",
       "<div id=\"df-dccf0d60-5122-4cc3-b6f4-c1d13b0aaead\">\n",
       "  <button class=\"colab-df-quickchart\" onclick=\"quickchart('df-dccf0d60-5122-4cc3-b6f4-c1d13b0aaead')\"\n",
       "            title=\"Suggest charts\"\n",
       "            style=\"display:none;\">\n",
       "\n",
       "<svg xmlns=\"http://www.w3.org/2000/svg\" height=\"24px\"viewBox=\"0 0 24 24\"\n",
       "     width=\"24px\">\n",
       "    <g>\n",
       "        <path d=\"M19 3H5c-1.1 0-2 .9-2 2v14c0 1.1.9 2 2 2h14c1.1 0 2-.9 2-2V5c0-1.1-.9-2-2-2zM9 17H7v-7h2v7zm4 0h-2V7h2v10zm4 0h-2v-4h2v4z\"/>\n",
       "    </g>\n",
       "</svg>\n",
       "  </button>\n",
       "\n",
       "<style>\n",
       "  .colab-df-quickchart {\n",
       "      --bg-color: #E8F0FE;\n",
       "      --fill-color: #1967D2;\n",
       "      --hover-bg-color: #E2EBFA;\n",
       "      --hover-fill-color: #174EA6;\n",
       "      --disabled-fill-color: #AAA;\n",
       "      --disabled-bg-color: #DDD;\n",
       "  }\n",
       "\n",
       "  [theme=dark] .colab-df-quickchart {\n",
       "      --bg-color: #3B4455;\n",
       "      --fill-color: #D2E3FC;\n",
       "      --hover-bg-color: #434B5C;\n",
       "      --hover-fill-color: #FFFFFF;\n",
       "      --disabled-bg-color: #3B4455;\n",
       "      --disabled-fill-color: #666;\n",
       "  }\n",
       "\n",
       "  .colab-df-quickchart {\n",
       "    background-color: var(--bg-color);\n",
       "    border: none;\n",
       "    border-radius: 50%;\n",
       "    cursor: pointer;\n",
       "    display: none;\n",
       "    fill: var(--fill-color);\n",
       "    height: 32px;\n",
       "    padding: 0;\n",
       "    width: 32px;\n",
       "  }\n",
       "\n",
       "  .colab-df-quickchart:hover {\n",
       "    background-color: var(--hover-bg-color);\n",
       "    box-shadow: 0 1px 2px rgba(60, 64, 67, 0.3), 0 1px 3px 1px rgba(60, 64, 67, 0.15);\n",
       "    fill: var(--button-hover-fill-color);\n",
       "  }\n",
       "\n",
       "  .colab-df-quickchart-complete:disabled,\n",
       "  .colab-df-quickchart-complete:disabled:hover {\n",
       "    background-color: var(--disabled-bg-color);\n",
       "    fill: var(--disabled-fill-color);\n",
       "    box-shadow: none;\n",
       "  }\n",
       "\n",
       "  .colab-df-spinner {\n",
       "    border: 2px solid var(--fill-color);\n",
       "    border-color: transparent;\n",
       "    border-bottom-color: var(--fill-color);\n",
       "    animation:\n",
       "      spin 1s steps(1) infinite;\n",
       "  }\n",
       "\n",
       "  @keyframes spin {\n",
       "    0% {\n",
       "      border-color: transparent;\n",
       "      border-bottom-color: var(--fill-color);\n",
       "      border-left-color: var(--fill-color);\n",
       "    }\n",
       "    20% {\n",
       "      border-color: transparent;\n",
       "      border-left-color: var(--fill-color);\n",
       "      border-top-color: var(--fill-color);\n",
       "    }\n",
       "    30% {\n",
       "      border-color: transparent;\n",
       "      border-left-color: var(--fill-color);\n",
       "      border-top-color: var(--fill-color);\n",
       "      border-right-color: var(--fill-color);\n",
       "    }\n",
       "    40% {\n",
       "      border-color: transparent;\n",
       "      border-right-color: var(--fill-color);\n",
       "      border-top-color: var(--fill-color);\n",
       "    }\n",
       "    60% {\n",
       "      border-color: transparent;\n",
       "      border-right-color: var(--fill-color);\n",
       "    }\n",
       "    80% {\n",
       "      border-color: transparent;\n",
       "      border-right-color: var(--fill-color);\n",
       "      border-bottom-color: var(--fill-color);\n",
       "    }\n",
       "    90% {\n",
       "      border-color: transparent;\n",
       "      border-bottom-color: var(--fill-color);\n",
       "    }\n",
       "  }\n",
       "</style>\n",
       "\n",
       "  <script>\n",
       "    async function quickchart(key) {\n",
       "      const quickchartButtonEl =\n",
       "        document.querySelector('#' + key + ' button');\n",
       "      quickchartButtonEl.disabled = true;  // To prevent multiple clicks.\n",
       "      quickchartButtonEl.classList.add('colab-df-spinner');\n",
       "      try {\n",
       "        const charts = await google.colab.kernel.invokeFunction(\n",
       "            'suggestCharts', [key], {});\n",
       "      } catch (error) {\n",
       "        console.error('Error during call to suggestCharts:', error);\n",
       "      }\n",
       "      quickchartButtonEl.classList.remove('colab-df-spinner');\n",
       "      quickchartButtonEl.classList.add('colab-df-quickchart-complete');\n",
       "    }\n",
       "    (() => {\n",
       "      let quickchartButtonEl =\n",
       "        document.querySelector('#df-dccf0d60-5122-4cc3-b6f4-c1d13b0aaead button');\n",
       "      quickchartButtonEl.style.display =\n",
       "        google.colab.kernel.accessAllowed ? 'block' : 'none';\n",
       "    })();\n",
       "  </script>\n",
       "</div>\n",
       "    </div>\n",
       "  </div>\n"
      ],
      "text/plain": [
       "  Sentiment                                               Text  \\\n",
       "0   neutral  According to Gran , the company has no plans t...   \n",
       "1   neutral  Technopolis plans to develop in stages an area...   \n",
       "2  negative  The international electronic industry company ...   \n",
       "3  positive  With the new production plant the company woul...   \n",
       "4  positive  According to the company 's updated strategy f...   \n",
       "\n",
       "                                    headline_cleaned  \\\n",
       "0  according to gran  the company has no plans to...   \n",
       "1  technopolis plans to develop in stages an area...   \n",
       "2  the international electronic industry company ...   \n",
       "3  with the new production plant the company woul...   \n",
       "4  according to the company s updated strategy fo...   \n",
       "\n",
       "                                     headline_tokens  \n",
       "0  [according, gran, company, plans, move, produc...  \n",
       "1  [technopolis, plans, develop, stages, area, le...  \n",
       "2  [international, electronic, industry, company,...  \n",
       "3  [new, production, plant, company, would, incre...  \n",
       "4  [according, company, updated, strategy, years,...  "
      ]
     },
     "execution_count": 5,
     "metadata": {},
     "output_type": "execute_result"
    }
   ],
   "source": [
    "# Preprocess and tokenize headlines\n",
    "data['headline_cleaned'] = data['Text'].apply(preprocess_headline)\n",
    "data['headline_tokens'] = data['headline_cleaned'].apply(tokenize_headline)\n",
    "\n",
    "# Display the results\n",
    "data.head()"
   ]
  },
  {
   "cell_type": "markdown",
   "metadata": {
    "id": "pcrLMQr6TPdI"
   },
   "source": [
    "Preprocess the Sentiment column as numerical data and perform other preprocessing steps:"
   ]
  },
  {
   "cell_type": "code",
   "execution_count": 6,
   "metadata": {
    "colab": {
     "base_uri": "https://localhost:8080/",
     "height": 423
    },
    "id": "PLo_NXV3TiLR",
    "outputId": "d712f0b2-876f-423c-e4b3-1a6bf3ea61fb"
   },
   "outputs": [
    {
     "data": {
      "text/html": [
       "\n",
       "  <div id=\"df-cd68ad0d-11d1-4695-8042-81ca5712e23c\" class=\"colab-df-container\">\n",
       "    <div>\n",
       "<style scoped>\n",
       "    .dataframe tbody tr th:only-of-type {\n",
       "        vertical-align: middle;\n",
       "    }\n",
       "\n",
       "    .dataframe tbody tr th {\n",
       "        vertical-align: top;\n",
       "    }\n",
       "\n",
       "    .dataframe thead th {\n",
       "        text-align: right;\n",
       "    }\n",
       "</style>\n",
       "<table border=\"1\" class=\"dataframe\">\n",
       "  <thead>\n",
       "    <tr style=\"text-align: right;\">\n",
       "      <th></th>\n",
       "      <th>Sentiment</th>\n",
       "      <th>Text</th>\n",
       "      <th>headline_cleaned</th>\n",
       "      <th>headline_tokens</th>\n",
       "      <th>sentiment_label</th>\n",
       "    </tr>\n",
       "  </thead>\n",
       "  <tbody>\n",
       "    <tr>\n",
       "      <th>0</th>\n",
       "      <td>neutral</td>\n",
       "      <td>According to Gran , the company has no plans t...</td>\n",
       "      <td>according to gran  the company has no plans to...</td>\n",
       "      <td>[according, gran, company, plans, move, produc...</td>\n",
       "      <td>0</td>\n",
       "    </tr>\n",
       "    <tr>\n",
       "      <th>1</th>\n",
       "      <td>neutral</td>\n",
       "      <td>Technopolis plans to develop in stages an area...</td>\n",
       "      <td>technopolis plans to develop in stages an area...</td>\n",
       "      <td>[technopolis, plans, develop, stages, area, le...</td>\n",
       "      <td>0</td>\n",
       "    </tr>\n",
       "    <tr>\n",
       "      <th>2</th>\n",
       "      <td>negative</td>\n",
       "      <td>The international electronic industry company ...</td>\n",
       "      <td>the international electronic industry company ...</td>\n",
       "      <td>[international, electronic, industry, company,...</td>\n",
       "      <td>2</td>\n",
       "    </tr>\n",
       "    <tr>\n",
       "      <th>3</th>\n",
       "      <td>positive</td>\n",
       "      <td>With the new production plant the company woul...</td>\n",
       "      <td>with the new production plant the company woul...</td>\n",
       "      <td>[new, production, plant, company, would, incre...</td>\n",
       "      <td>1</td>\n",
       "    </tr>\n",
       "    <tr>\n",
       "      <th>4</th>\n",
       "      <td>positive</td>\n",
       "      <td>According to the company 's updated strategy f...</td>\n",
       "      <td>according to the company s updated strategy fo...</td>\n",
       "      <td>[according, company, updated, strategy, years,...</td>\n",
       "      <td>1</td>\n",
       "    </tr>\n",
       "    <tr>\n",
       "      <th>...</th>\n",
       "      <td>...</td>\n",
       "      <td>...</td>\n",
       "      <td>...</td>\n",
       "      <td>...</td>\n",
       "      <td>...</td>\n",
       "    </tr>\n",
       "    <tr>\n",
       "      <th>4833</th>\n",
       "      <td>negative</td>\n",
       "      <td>LONDON MarketWatch -- Share prices ended lower...</td>\n",
       "      <td>london marketwatch  share prices ended lower i...</td>\n",
       "      <td>[london, marketwatch, share, prices, ended, lo...</td>\n",
       "      <td>2</td>\n",
       "    </tr>\n",
       "    <tr>\n",
       "      <th>4834</th>\n",
       "      <td>neutral</td>\n",
       "      <td>Rinkuskiai 's beer sales fell by 6.5 per cent ...</td>\n",
       "      <td>rinkuskiai s beer sales fell by 65 per cent to...</td>\n",
       "      <td>[rinkuskiai, beer, sales, fell, 65, per, cent,...</td>\n",
       "      <td>0</td>\n",
       "    </tr>\n",
       "    <tr>\n",
       "      <th>4835</th>\n",
       "      <td>negative</td>\n",
       "      <td>Operating profit fell to EUR 35.4 mn from EUR ...</td>\n",
       "      <td>operating profit fell to eur 354 mn from eur 6...</td>\n",
       "      <td>[operating, profit, fell, eur, 354, mn, eur, 6...</td>\n",
       "      <td>2</td>\n",
       "    </tr>\n",
       "    <tr>\n",
       "      <th>4836</th>\n",
       "      <td>negative</td>\n",
       "      <td>Net sales of the Paper segment decreased to EU...</td>\n",
       "      <td>net sales of the paper segment decreased to eu...</td>\n",
       "      <td>[net, sales, paper, segment, decreased, eur, 2...</td>\n",
       "      <td>2</td>\n",
       "    </tr>\n",
       "    <tr>\n",
       "      <th>4837</th>\n",
       "      <td>negative</td>\n",
       "      <td>Sales in Finland decreased by 10.5 % in Januar...</td>\n",
       "      <td>sales in finland decreased by 105  in january ...</td>\n",
       "      <td>[sales, finland, decreased, 105, january, sale...</td>\n",
       "      <td>2</td>\n",
       "    </tr>\n",
       "  </tbody>\n",
       "</table>\n",
       "<p>4838 rows × 5 columns</p>\n",
       "</div>\n",
       "    <div class=\"colab-df-buttons\">\n",
       "\n",
       "  <div class=\"colab-df-container\">\n",
       "    <button class=\"colab-df-convert\" onclick=\"convertToInteractive('df-cd68ad0d-11d1-4695-8042-81ca5712e23c')\"\n",
       "            title=\"Convert this dataframe to an interactive table.\"\n",
       "            style=\"display:none;\">\n",
       "\n",
       "  <svg xmlns=\"http://www.w3.org/2000/svg\" height=\"24px\" viewBox=\"0 -960 960 960\">\n",
       "    <path d=\"M120-120v-720h720v720H120Zm60-500h600v-160H180v160Zm220 220h160v-160H400v160Zm0 220h160v-160H400v160ZM180-400h160v-160H180v160Zm440 0h160v-160H620v160ZM180-180h160v-160H180v160Zm440 0h160v-160H620v160Z\"/>\n",
       "  </svg>\n",
       "    </button>\n",
       "\n",
       "  <style>\n",
       "    .colab-df-container {\n",
       "      display:flex;\n",
       "      gap: 12px;\n",
       "    }\n",
       "\n",
       "    .colab-df-convert {\n",
       "      background-color: #E8F0FE;\n",
       "      border: none;\n",
       "      border-radius: 50%;\n",
       "      cursor: pointer;\n",
       "      display: none;\n",
       "      fill: #1967D2;\n",
       "      height: 32px;\n",
       "      padding: 0 0 0 0;\n",
       "      width: 32px;\n",
       "    }\n",
       "\n",
       "    .colab-df-convert:hover {\n",
       "      background-color: #E2EBFA;\n",
       "      box-shadow: 0px 1px 2px rgba(60, 64, 67, 0.3), 0px 1px 3px 1px rgba(60, 64, 67, 0.15);\n",
       "      fill: #174EA6;\n",
       "    }\n",
       "\n",
       "    .colab-df-buttons div {\n",
       "      margin-bottom: 4px;\n",
       "    }\n",
       "\n",
       "    [theme=dark] .colab-df-convert {\n",
       "      background-color: #3B4455;\n",
       "      fill: #D2E3FC;\n",
       "    }\n",
       "\n",
       "    [theme=dark] .colab-df-convert:hover {\n",
       "      background-color: #434B5C;\n",
       "      box-shadow: 0px 1px 3px 1px rgba(0, 0, 0, 0.15);\n",
       "      filter: drop-shadow(0px 1px 2px rgba(0, 0, 0, 0.3));\n",
       "      fill: #FFFFFF;\n",
       "    }\n",
       "  </style>\n",
       "\n",
       "    <script>\n",
       "      const buttonEl =\n",
       "        document.querySelector('#df-cd68ad0d-11d1-4695-8042-81ca5712e23c button.colab-df-convert');\n",
       "      buttonEl.style.display =\n",
       "        google.colab.kernel.accessAllowed ? 'block' : 'none';\n",
       "\n",
       "      async function convertToInteractive(key) {\n",
       "        const element = document.querySelector('#df-cd68ad0d-11d1-4695-8042-81ca5712e23c');\n",
       "        const dataTable =\n",
       "          await google.colab.kernel.invokeFunction('convertToInteractive',\n",
       "                                                    [key], {});\n",
       "        if (!dataTable) return;\n",
       "\n",
       "        const docLinkHtml = 'Like what you see? Visit the ' +\n",
       "          '<a target=\"_blank\" href=https://colab.research.google.com/notebooks/data_table.ipynb>data table notebook</a>'\n",
       "          + ' to learn more about interactive tables.';\n",
       "        element.innerHTML = '';\n",
       "        dataTable['output_type'] = 'display_data';\n",
       "        await google.colab.output.renderOutput(dataTable, element);\n",
       "        const docLink = document.createElement('div');\n",
       "        docLink.innerHTML = docLinkHtml;\n",
       "        element.appendChild(docLink);\n",
       "      }\n",
       "    </script>\n",
       "  </div>\n",
       "\n",
       "\n",
       "<div id=\"df-558b40d1-b8eb-4588-9f8a-48234633ac96\">\n",
       "  <button class=\"colab-df-quickchart\" onclick=\"quickchart('df-558b40d1-b8eb-4588-9f8a-48234633ac96')\"\n",
       "            title=\"Suggest charts\"\n",
       "            style=\"display:none;\">\n",
       "\n",
       "<svg xmlns=\"http://www.w3.org/2000/svg\" height=\"24px\"viewBox=\"0 0 24 24\"\n",
       "     width=\"24px\">\n",
       "    <g>\n",
       "        <path d=\"M19 3H5c-1.1 0-2 .9-2 2v14c0 1.1.9 2 2 2h14c1.1 0 2-.9 2-2V5c0-1.1-.9-2-2-2zM9 17H7v-7h2v7zm4 0h-2V7h2v10zm4 0h-2v-4h2v4z\"/>\n",
       "    </g>\n",
       "</svg>\n",
       "  </button>\n",
       "\n",
       "<style>\n",
       "  .colab-df-quickchart {\n",
       "      --bg-color: #E8F0FE;\n",
       "      --fill-color: #1967D2;\n",
       "      --hover-bg-color: #E2EBFA;\n",
       "      --hover-fill-color: #174EA6;\n",
       "      --disabled-fill-color: #AAA;\n",
       "      --disabled-bg-color: #DDD;\n",
       "  }\n",
       "\n",
       "  [theme=dark] .colab-df-quickchart {\n",
       "      --bg-color: #3B4455;\n",
       "      --fill-color: #D2E3FC;\n",
       "      --hover-bg-color: #434B5C;\n",
       "      --hover-fill-color: #FFFFFF;\n",
       "      --disabled-bg-color: #3B4455;\n",
       "      --disabled-fill-color: #666;\n",
       "  }\n",
       "\n",
       "  .colab-df-quickchart {\n",
       "    background-color: var(--bg-color);\n",
       "    border: none;\n",
       "    border-radius: 50%;\n",
       "    cursor: pointer;\n",
       "    display: none;\n",
       "    fill: var(--fill-color);\n",
       "    height: 32px;\n",
       "    padding: 0;\n",
       "    width: 32px;\n",
       "  }\n",
       "\n",
       "  .colab-df-quickchart:hover {\n",
       "    background-color: var(--hover-bg-color);\n",
       "    box-shadow: 0 1px 2px rgba(60, 64, 67, 0.3), 0 1px 3px 1px rgba(60, 64, 67, 0.15);\n",
       "    fill: var(--button-hover-fill-color);\n",
       "  }\n",
       "\n",
       "  .colab-df-quickchart-complete:disabled,\n",
       "  .colab-df-quickchart-complete:disabled:hover {\n",
       "    background-color: var(--disabled-bg-color);\n",
       "    fill: var(--disabled-fill-color);\n",
       "    box-shadow: none;\n",
       "  }\n",
       "\n",
       "  .colab-df-spinner {\n",
       "    border: 2px solid var(--fill-color);\n",
       "    border-color: transparent;\n",
       "    border-bottom-color: var(--fill-color);\n",
       "    animation:\n",
       "      spin 1s steps(1) infinite;\n",
       "  }\n",
       "\n",
       "  @keyframes spin {\n",
       "    0% {\n",
       "      border-color: transparent;\n",
       "      border-bottom-color: var(--fill-color);\n",
       "      border-left-color: var(--fill-color);\n",
       "    }\n",
       "    20% {\n",
       "      border-color: transparent;\n",
       "      border-left-color: var(--fill-color);\n",
       "      border-top-color: var(--fill-color);\n",
       "    }\n",
       "    30% {\n",
       "      border-color: transparent;\n",
       "      border-left-color: var(--fill-color);\n",
       "      border-top-color: var(--fill-color);\n",
       "      border-right-color: var(--fill-color);\n",
       "    }\n",
       "    40% {\n",
       "      border-color: transparent;\n",
       "      border-right-color: var(--fill-color);\n",
       "      border-top-color: var(--fill-color);\n",
       "    }\n",
       "    60% {\n",
       "      border-color: transparent;\n",
       "      border-right-color: var(--fill-color);\n",
       "    }\n",
       "    80% {\n",
       "      border-color: transparent;\n",
       "      border-right-color: var(--fill-color);\n",
       "      border-bottom-color: var(--fill-color);\n",
       "    }\n",
       "    90% {\n",
       "      border-color: transparent;\n",
       "      border-bottom-color: var(--fill-color);\n",
       "    }\n",
       "  }\n",
       "</style>\n",
       "\n",
       "  <script>\n",
       "    async function quickchart(key) {\n",
       "      const quickchartButtonEl =\n",
       "        document.querySelector('#' + key + ' button');\n",
       "      quickchartButtonEl.disabled = true;  // To prevent multiple clicks.\n",
       "      quickchartButtonEl.classList.add('colab-df-spinner');\n",
       "      try {\n",
       "        const charts = await google.colab.kernel.invokeFunction(\n",
       "            'suggestCharts', [key], {});\n",
       "      } catch (error) {\n",
       "        console.error('Error during call to suggestCharts:', error);\n",
       "      }\n",
       "      quickchartButtonEl.classList.remove('colab-df-spinner');\n",
       "      quickchartButtonEl.classList.add('colab-df-quickchart-complete');\n",
       "    }\n",
       "    (() => {\n",
       "      let quickchartButtonEl =\n",
       "        document.querySelector('#df-558b40d1-b8eb-4588-9f8a-48234633ac96 button');\n",
       "      quickchartButtonEl.style.display =\n",
       "        google.colab.kernel.accessAllowed ? 'block' : 'none';\n",
       "    })();\n",
       "  </script>\n",
       "</div>\n",
       "    </div>\n",
       "  </div>\n"
      ],
      "text/plain": [
       "     Sentiment                                               Text  \\\n",
       "0      neutral  According to Gran , the company has no plans t...   \n",
       "1      neutral  Technopolis plans to develop in stages an area...   \n",
       "2     negative  The international electronic industry company ...   \n",
       "3     positive  With the new production plant the company woul...   \n",
       "4     positive  According to the company 's updated strategy f...   \n",
       "...        ...                                                ...   \n",
       "4833  negative  LONDON MarketWatch -- Share prices ended lower...   \n",
       "4834   neutral  Rinkuskiai 's beer sales fell by 6.5 per cent ...   \n",
       "4835  negative  Operating profit fell to EUR 35.4 mn from EUR ...   \n",
       "4836  negative  Net sales of the Paper segment decreased to EU...   \n",
       "4837  negative  Sales in Finland decreased by 10.5 % in Januar...   \n",
       "\n",
       "                                       headline_cleaned  \\\n",
       "0     according to gran  the company has no plans to...   \n",
       "1     technopolis plans to develop in stages an area...   \n",
       "2     the international electronic industry company ...   \n",
       "3     with the new production plant the company woul...   \n",
       "4     according to the company s updated strategy fo...   \n",
       "...                                                 ...   \n",
       "4833  london marketwatch  share prices ended lower i...   \n",
       "4834  rinkuskiai s beer sales fell by 65 per cent to...   \n",
       "4835  operating profit fell to eur 354 mn from eur 6...   \n",
       "4836  net sales of the paper segment decreased to eu...   \n",
       "4837  sales in finland decreased by 105  in january ...   \n",
       "\n",
       "                                        headline_tokens  sentiment_label  \n",
       "0     [according, gran, company, plans, move, produc...                0  \n",
       "1     [technopolis, plans, develop, stages, area, le...                0  \n",
       "2     [international, electronic, industry, company,...                2  \n",
       "3     [new, production, plant, company, would, incre...                1  \n",
       "4     [according, company, updated, strategy, years,...                1  \n",
       "...                                                 ...              ...  \n",
       "4833  [london, marketwatch, share, prices, ended, lo...                2  \n",
       "4834  [rinkuskiai, beer, sales, fell, 65, per, cent,...                0  \n",
       "4835  [operating, profit, fell, eur, 354, mn, eur, 6...                2  \n",
       "4836  [net, sales, paper, segment, decreased, eur, 2...                2  \n",
       "4837  [sales, finland, decreased, 105, january, sale...                2  \n",
       "\n",
       "[4838 rows x 5 columns]"
      ]
     },
     "execution_count": 6,
     "metadata": {},
     "output_type": "execute_result"
    }
   ],
   "source": [
    "# Mapping 'neutral' to 0, 'positive' to 1, and 'negative' to 2\n",
    "sentiment_mapping = {'neutral': 0, 'positive': 1, 'negative': 2}\n",
    "data['sentiment_label'] = data['Sentiment'].map(sentiment_mapping)\n",
    "\n",
    "# Additional preprocessing steps:\n",
    "# Check for and handle missing values\n",
    "data.dropna(inplace=True) # Remove rows with missing values\n",
    "# Reset index after dropping rows to maintain consistency in the DataFrame\n",
    "data.reset_index(drop=True, inplace=True)\n",
    "\n",
    "# Additional preprocessing steps might include removing duplicates or handling outlier values if any\n",
    "# Check for duplicate headlines and remove them to prevent biased EDA\n",
    "data = data.drop_duplicates(subset='Text').reset_index(drop=True)\n",
    "\n",
    "# Data is ready for EDA\n",
    "data"
   ]
  },
  {
   "cell_type": "markdown",
   "metadata": {
    "id": "KQMaAPHtJ4WL"
   },
   "source": [
    "## **Exploratory Data Analysis (EDA)**"
   ]
  },
  {
   "cell_type": "code",
   "execution_count": 7,
   "metadata": {
    "colab": {
     "base_uri": "https://localhost:8080/"
    },
    "id": "wdL3O0a2KBpO",
    "outputId": "57cd7d63-a19e-4a6d-ed2c-0f29892951b1"
   },
   "outputs": [
    {
     "name": "stdout",
     "output_type": "stream",
     "text": [
      "Basic Information about the Data:\n",
      "<class 'pandas.core.frame.DataFrame'>\n",
      "RangeIndex: 4838 entries, 0 to 4837\n",
      "Data columns (total 5 columns):\n",
      " #   Column            Non-Null Count  Dtype \n",
      "---  ------            --------------  ----- \n",
      " 0   Sentiment         4838 non-null   object\n",
      " 1   Text              4838 non-null   object\n",
      " 2   headline_cleaned  4838 non-null   object\n",
      " 3   headline_tokens   4838 non-null   object\n",
      " 4   sentiment_label   4838 non-null   int64 \n",
      "dtypes: int64(1), object(4)\n",
      "memory usage: 189.1+ KB\n",
      "None\n",
      "\n",
      "Descriptive Statistics:\n",
      "       sentiment_label\n",
      "count      4838.000000\n",
      "mean          0.531211\n",
      "std           0.706271\n",
      "min           0.000000\n",
      "25%           0.000000\n",
      "50%           0.000000\n",
      "75%           1.000000\n",
      "max           2.000000\n",
      "\n",
      "Missing Values in the Dataset:\n",
      "Sentiment           0\n",
      "Text                0\n",
      "headline_cleaned    0\n",
      "headline_tokens     0\n",
      "sentiment_label     0\n",
      "dtype: int64\n",
      "\n",
      "Class Balance in 'Sentiment':\n",
      "neutral     0.593634\n",
      "positive    0.281521\n",
      "negative    0.124845\n",
      "Name: Sentiment, dtype: float64\n"
     ]
    }
   ],
   "source": [
    "# Basic information about the dataset\n",
    "print(\"Basic Information about the Data:\")\n",
    "print(data.info())\n",
    "\n",
    "# Descriptive statistics for the numerical columns\n",
    "print(\"\\nDescriptive Statistics:\")\n",
    "print(data.describe())\n",
    "\n",
    "# Checking for missing values in the dataset\n",
    "print(\"\\nMissing Values in the Dataset:\")\n",
    "print(data.isnull().sum())\n",
    "\n",
    "# Check for class balance in the 'Sentiment' column\n",
    "print(\"\\nClass Balance in 'Sentiment':\")\n",
    "print(data['Sentiment'].value_counts(normalize=True))"
   ]
  },
  {
   "cell_type": "code",
   "execution_count": 8,
   "metadata": {
    "colab": {
     "base_uri": "https://localhost:8080/",
     "height": 472
    },
    "id": "tuWPZuqccgny",
    "outputId": "9a0cff13-51fe-4236-9c77-003c56f19ef6"
   },
   "outputs": [
    {
     "data": {
      "image/png": "[encoded data removed]",
      "text/plain": [
       "<Figure size 640x480 with 1 Axes>"
      ]
     },
     "metadata": {},
     "output_type": "display_data"
    }
   ],
   "source": [
    "# Visualize the class balance\n",
    "sns.countplot(x='Sentiment', data=data)\n",
    "plt.title('Class Balance in Sentiments')\n",
    "plt.xlabel('Sentiment')\n",
    "plt.ylabel('Frequency')\n",
    "plt.show()"
   ]
  },
  {
   "cell_type": "markdown",
   "metadata": {
    "id": "A-KUMg5zFb1X"
   },
   "source": [
    "We can observe that:\n",
    "\n",
    "1. The **\"neutral\" category has the highest frequency**, with a count significantly higher than the other two categories. This indicates that the dataset contains a majority of neutral sentiment headlines.\n",
    "\n",
    "2. The \"positive\" category comes next, with a frequency that is roughly half of the neutral category. This shows a moderate representation of positive sentiment headlines in the dataset.\n",
    "\n",
    "3. The \"negative\" category has the lowest frequency, indicating that negative sentiment headlines are the least represented in this dataset.\n",
    "\n",
    "The class distribution percentages provided suggest that nearly **59% of the dataset is made up of neutral sentiment, about 28% positive sentiment, and roughly 12% negative sentiment**. The imbalance in class distribution could potentially introduce bias towards the neutral class in predictive modeling, meaning models trained on this data might be more inclined to predict an outcome as neutral. Therefore, techniques such as resampling or class weight adjustments might be necessary to mitigate bias and improve model performance for minority classes (positive and negative sentiments). Here, as we do not have much data, we use different performance metrics to evaluate the model performance to mitigate the effects of the imbalance characteristic."
   ]
  },
  {
   "cell_type": "code",
   "execution_count": 9,
   "metadata": {
    "colab": {
     "base_uri": "https://localhost:8080/",
     "height": 663
    },
    "id": "PzRuZiX2ckBp",
    "outputId": "6ec8de63-da50-4220-eb5c-3f1a7bbd349c"
   },
   "outputs": [
    {
     "name": "stdout",
     "output_type": "stream",
     "text": [
      "\n",
      "Statistics about headline length:\n",
      "count    4838.000000\n",
      "mean       23.089913\n",
      "std         9.938990\n",
      "min         2.000000\n",
      "25%        16.000000\n",
      "50%        21.000000\n",
      "75%        29.000000\n",
      "max        81.000000\n",
      "Name: headline_length, dtype: float64\n"
     ]
    },
    {
     "data": {
      "image/png": "[encoded data removed]",
      "text/plain": [
       "<Figure size 640x480 with 1 Axes>"
      ]
     },
     "metadata": {},
     "output_type": "display_data"
    }
   ],
   "source": [
    "# Let's also look at some statistics about the text\n",
    "data['headline_length'] = data['Text'].apply(lambda x: len(x.split()))\n",
    "print(\"\\nStatistics about headline length:\")\n",
    "print(data['headline_length'].describe())\n",
    "\n",
    "# Visualize the distribution of headline lengths\n",
    "sns.histplot(data['headline_length'], bins=30)\n",
    "plt.title('Distribution of Headline Lengths')\n",
    "plt.xlabel('Headline Length')\n",
    "plt.ylabel('Frequency')\n",
    "plt.show()"
   ]
  },
  {
   "cell_type": "code",
   "execution_count": 10,
   "metadata": {
    "colab": {
     "base_uri": "https://localhost:8080/",
     "height": 472
    },
    "id": "5UeJNfN6codv",
    "outputId": "60ee98f1-0c03-4530-dd9a-225c3c6c4897"
   },
   "outputs": [
    {
     "data": {
      "image/png": "[encoded data removed]",
      "text/plain": [
       "<Figure size 640x480 with 1 Axes>"
      ]
     },
     "metadata": {},
     "output_type": "display_data"
    }
   ],
   "source": [
    "# Show the headline length distribution across sentiments\n",
    "sns.boxplot(x='Sentiment', y='headline_length', data=data)\n",
    "plt.title('Headline Length Distribution by Sentiment')\n",
    "plt.xlabel('Sentiment')\n",
    "plt.ylabel('Headline Length')\n",
    "plt.xticks(ticks=[0, 1, 2], labels=['Neutral', 'Positive', 'Negative'])\n",
    "plt.show()"
   ]
  },
  {
   "cell_type": "code",
   "execution_count": 11,
   "metadata": {
    "colab": {
     "base_uri": "https://localhost:8080/",
     "height": 607
    },
    "id": "Cpet23nKblPV",
    "outputId": "8bba4438-49c0-4d6e-8f49-d5656e279b41"
   },
   "outputs": [
    {
     "data": {
      "image/png": "[encoded data removed]",
      "text/plain": [
       "<Figure size 1800x600 with 3 Axes>"
      ]
     },
     "metadata": {},
     "output_type": "display_data"
    }
   ],
   "source": [
    "# Examine the most frequent words in each sentiment category\n",
    "def get_top_words(tokens_list):\n",
    "    all_words = [word for tokens in tokens_list for word in tokens]\n",
    "    return Counter(all_words).most_common(10)\n",
    "\n",
    "# Get the top words for each sentiment category\n",
    "top_words_neutral = get_top_words(data[data['sentiment_label'] == 0]['headline_tokens'])\n",
    "top_words_positive = get_top_words(data[data['sentiment_label'] == 1]['headline_tokens'])\n",
    "top_words_negative = get_top_words(data[data['sentiment_label'] == 2]['headline_tokens'])\n",
    "\n",
    "# Plot the top words\n",
    "fig, axes = plt.subplots(1, 3, figsize=(18, 6))\n",
    "\n",
    "sns.barplot(ax=axes[0], x=[count for word, count in top_words_neutral], y=[word for word, count in top_words_neutral])\n",
    "axes[0].set_title('Top Words in Neutral Headlines')\n",
    "axes[0].set_xlabel('Frequency')\n",
    "axes[0].set_ylabel('Words')\n",
    "\n",
    "sns.barplot(ax=axes[1], x=[count for word, count in top_words_positive], y=[word for word, count in top_words_positive])\n",
    "axes[1].set_title('Top Words in Positive Headlines')\n",
    "axes[1].set_xlabel('Frequency')\n",
    "axes[1].set_ylabel('Words')\n",
    "\n",
    "sns.barplot(ax=axes[2], x=[count for word, count in top_words_negative], y=[word for word, count in top_words_negative])\n",
    "axes[2].set_title('Top Words in Negative Headlines')\n",
    "axes[2].set_xlabel('Frequency')\n",
    "axes[2].set_ylabel('Words')\n",
    "\n",
    "plt.tight_layout()\n",
    "plt.show()"
   ]
  },
  {
   "cell_type": "markdown",
   "metadata": {
    "id": "f9iYBBfgIstX"
   },
   "source": [
    "The set of three bar charts compares the **top words found in financial news headlines**, categorized by sentiment: neutral, positive, and negative. Each chart is sorted by the frequency of occurrence of each word within its respective sentiment category.\n",
    "\n",
    "1. In neutral headlines, the most frequent word is **\"company,\"** followed by **\"eur\"** (likely short for Euro, the currency), and **\"said.\"** This indicates a focus on company-centric news and possibly financial reporting or statements in the context presumed to be neutral.\n",
    "\n",
    "2. Positive headlines also feature **\"eur\"** and **\"company\"** as top words, suggesting that financial performance or positive news related to companies and their financial dealings in Euros are common in this sentiment category. The presence of words like **\"profit\" and \"sales\" further supports this assumption**.\n",
    "\n",
    "3. Negative headlines have a different set of frequent words with **\"eur\"** still prominent but accompanied by words like **\"profit,\" \"net,\" and \"operating,\"** which could relate to financial results. The presence of \"2009\" might indicate that the data includes reports from a year with notable negative financial events, or it could be a specific reference point for the dataset.\n",
    "\n",
    "Overall, while there is **some overlap in the top words across different sentiments**, certain words like \"operating\" and \"period\" are more exclusive to negative headlines, and \"sales\" and \"profit\" appear in both positive and negative, which may reflect their use in different contexts. The analysis of these word frequencies can help in understanding the common themes within financial news and assist in building sentiment analysis models."
   ]
  },
  {
   "cell_type": "markdown",
   "metadata": {
    "id": "tetowSS-KCQ2"
   },
   "source": [
    "## **Modeling + Inference**"
   ]
  },
  {
   "cell_type": "markdown",
   "metadata": {
    "id": "kmE5sKsybQpB"
   },
   "source": [
    "### **Textual Data Encoding**"
   ]
  },
  {
   "cell_type": "markdown",
   "metadata": {
    "id": "b5HkM24MdGq4"
   },
   "source": [
    "#### Convert to sequences using the Tokenizer and text_to_word_sequence"
   ]
  },
  {
   "cell_type": "code",
   "execution_count": 12,
   "metadata": {
    "id": "GCwV4GRXbdy2"
   },
   "outputs": [],
   "source": [
    "# Set the number of features as the maximum words\n",
    "MAX_FEATURES = 5000\n",
    "\n",
    "# Initialize the tokenizer with the top MAX_FEATURES words\n",
    "tokenizer = Tokenizer(num_words=MAX_FEATURES)\n",
    "\n",
    "# Fit the tokenizer on the headline tokens\n",
    "tokenizer.fit_on_texts(data['headline_cleaned'])\n",
    "\n",
    "# Convert the 'headline_cleaned' column to sequences\n",
    "sequences = tokenizer.texts_to_sequences(data['headline_cleaned'])\n",
    "\n",
    "# Get the labels\n",
    "labels = data['sentiment_label'].values\n",
    "\n",
    "# Pad the sequences to have a uniform length\n",
    "MAX_LENGTH = 100\n",
    "padded_sequences = pad_sequences(sequences, maxlen=MAX_LENGTH)"
   ]
  },
  {
   "cell_type": "markdown",
   "metadata": {
    "id": "_gJmvASFeuUd"
   },
   "source": [
    "#### Dataset Splitting (train/validation/test split ratio is 80/10/10)"
   ]
  },
  {
   "cell_type": "code",
   "execution_count": 13,
   "metadata": {
    "colab": {
     "base_uri": "https://localhost:8080/"
    },
    "id": "paSi5SFPezqQ",
    "outputId": "54449ed2-3f99-4a93-ddd0-406157457f76"
   },
   "outputs": [
    {
     "name": "stdout",
     "output_type": "stream",
     "text": [
      "Training set: 3870 samples\n",
      "Validation set: 484 samples\n",
      "Testing set: 484 samples\n"
     ]
    }
   ],
   "source": [
    "# First, split into 80% train and 20% for combined validation and testing\n",
    "train_sequences, test_val_sequences, train_labels, test_val_labels = train_test_split(\n",
    "    padded_sequences, labels, test_size=0.20, random_state=42)\n",
    "\n",
    "# Now split the 20% test_val data equally into 10% test and 10% validation sets\n",
    "test_sequences, val_sequences, test_labels, val_labels = train_test_split(\n",
    "    test_val_sequences, test_val_labels, test_size=0.50, random_state=42)\n",
    "\n",
    "# Verify the size of each dataset\n",
    "print(f\"Training set: {len(train_sequences)} samples\")\n",
    "print(f\"Validation set: {len(val_sequences)} samples\")\n",
    "print(f\"Testing set: {len(test_sequences)} samples\")"
   ]
  },
  {
   "cell_type": "markdown",
   "metadata": {
    "id": "xEn1Aj7qSqWY"
   },
   "source": [
    "### **Traditional Machine Learning Modeling**"
   ]
  },
  {
   "cell_type": "markdown",
   "metadata": {
    "id": "YeZWHx1Su_gQ"
   },
   "source": [
    "#### Modeling using Logistic Regression, Decision Tree, Random Forest, XGBoost, Bayesian, and Gradient Boosting"
   ]
  },
  {
   "cell_type": "code",
   "execution_count": 14,
   "metadata": {
    "id": "XlZzVJ80KH6T"
   },
   "outputs": [],
   "source": [
    "def train_evaluate_models(X_train, y_train, X_test, y_test):\n",
    "    # Initialize models\n",
    "    models = {\n",
    "        'Logistic Regression': LogisticRegression(solver='saga'),\n",
    "        'Decision Tree': DecisionTreeClassifier(),\n",
    "        'Random Forest': RandomForestClassifier(),\n",
    "        'XGBoost': XGBClassifier(),\n",
    "        'Bayesian': GaussianNB(),\n",
    "        'Gradient Boosting': GradientBoostingClassifier()\n",
    "    }\n",
    "\n",
    "    # Dictionary to store performance metrics\n",
    "    performance_metrics = {\n",
    "        'Model': [],\n",
    "        'Accuracy': [],\n",
    "        'Precision': [],\n",
    "        'Recall': [],\n",
    "        'F1 Score': []\n",
    "    }\n",
    "\n",
    "    # Train and evaluate each model\n",
    "    for name, model in models.items():\n",
    "        model.fit(X_train, y_train)\n",
    "        y_pred = model.predict(X_test)\n",
    "\n",
    "        # Append metrics to the dictionary\n",
    "        performance_metrics['Model'].append(name)\n",
    "        performance_metrics['Accuracy'].append(accuracy_score(y_test, y_pred))\n",
    "        performance_metrics['Precision'].append(precision_score(y_test, y_pred, average='weighted'))\n",
    "        performance_metrics['Recall'].append(recall_score(y_test, y_pred, average='weighted'))\n",
    "        performance_metrics['F1 Score'].append(f1_score(y_test, y_pred, average='weighted'))\n",
    "\n",
    "    return performance_metrics"
   ]
  },
  {
   "cell_type": "code",
   "execution_count": 15,
   "metadata": {
    "colab": {
     "base_uri": "https://localhost:8080/",
     "height": 842
    },
    "id": "IpOfJfcjjWWu",
    "outputId": "936374d3-3a72-4046-c2f0-cb9d08c8d9c6"
   },
   "outputs": [
    {
     "name": "stderr",
     "output_type": "stream",
     "text": [
      "/usr/local/lib/python3.10/dist-packages/sklearn/linear_model/_sag.py:350: ConvergenceWarning: The max_iter was reached which means the coef_ did not converge\n",
      "  warnings.warn(\n"
     ]
    },
    {
     "data": {
      "image/png": "[encoded data removed]",
      "text/plain": [
       "<Figure size 1500x800 with 1 Axes>"
      ]
     },
     "metadata": {},
     "output_type": "display_data"
    }
   ],
   "source": [
    "performance_metrics = train_evaluate_models(train_sequences, train_labels, val_sequences, val_labels)\n",
    "\n",
    "# Plotting the performance metrics\n",
    "metrics_df = pd.DataFrame(performance_metrics)\n",
    "metrics_df.set_index('Model', inplace=True)\n",
    "\n",
    "# Plot a histogram\n",
    "metrics_df.plot(kind='bar', figsize=(15, 8))\n",
    "plt.title('Performance Metrics of ML Models')\n",
    "plt.ylabel('Score')\n",
    "plt.xticks(rotation=45)\n",
    "plt.legend(loc='lower right')\n",
    "\n",
    "# After plotting the bars, iterate over them and add text labels\n",
    "for i, bar in enumerate(plt.gca().patches):\n",
    "    plt.gca().text(bar.get_x() + bar.get_width() / 2, bar.get_height() - 0.05,\n",
    "                   f'{bar.get_height():.2f}',\n",
    "                   ha='center', color='w', fontsize=11)\n",
    "\n",
    "plt.tight_layout()\n",
    "plt.show()"
   ]
  },
  {
   "cell_type": "markdown",
   "metadata": {
    "id": "I7aHM8VQsgQf"
   },
   "source": [
    "Based on the performance metrics above for each model, we can perform the following analysis.\n",
    "\n",
    "Given these results, we can determine that:\n",
    "\n",
    "- **Random Forest** is the best performer in terms of accuracy and recall. However, its F1 score, which balances precision and recall, is not the highest.\n",
    "- **XGBoost** follows closely in terms of accuracy and recall but has a higher F1 score than Random Forest, suggesting a better balance between precision and recall.\n",
    "- **Gradient Boosting** is comparable to XGBoost in accuracy and recall and has a precision close to Random Forest, but its F1 score is slightly lower than that of XGBoost.\n",
    "- **Bayesian (Naive Bayes)** has the relatively high precision, but this is likely misleading due to its very low recall and accuracy, indicating that it is not a good fit for this dataset.\n",
    "- **Logistic Regression** and **Decision Tree** models perform moderately well but are outperformed by ensemble methods.\n",
    "\n",
    "Generally speaking, the **XGBoost** model appears to offer the best balance across all metrics, making it the preferred choice in this scenario. It has high accuracy and recall, and the highest F1 score among all models, which suggests it has a good balance between precision and recall."
   ]
  },
  {
   "cell_type": "markdown",
   "metadata": {
    "id": "bO6WMbj5u44A"
   },
   "source": [
    "#### Hyperparameter tuning for **XGBoost**"
   ]
  },
  {
   "cell_type": "code",
   "execution_count": 16,
   "metadata": {
    "colab": {
     "base_uri": "https://localhost:8080/",
     "height": 282
    },
    "id": "NmLdnd4eu8t0",
    "outputId": "6db837a1-5696-47bb-8ab4-ccff80b412c5"
   },
   "outputs": [
    {
     "name": "stdout",
     "output_type": "stream",
     "text": [
      "Fitting 3 folds for each of 27 candidates, totalling 81 fits\n",
      "Best parameters: {'learning_rate': 0.1, 'max_depth': 3, 'n_estimators': 50}\n"
     ]
    },
    {
     "data": {
      "text/html": [
       "<style>#sk-container-id-1 {color: black;background-color: white;}#sk-container-id-1 pre{padding: 0;}#sk-container-id-1 div.sk-toggleable {background-color: white;}#sk-container-id-1 label.sk-toggleable__label {cursor: pointer;display: block;width: 100%;margin-bottom: 0;padding: 0.3em;box-sizing: border-box;text-align: center;}#sk-container-id-1 label.sk-toggleable__label-arrow:before {content: \"▸\";float: left;margin-right: 0.25em;color: #696969;}#sk-container-id-1 label.sk-toggleable__label-arrow:hover:before {color: black;}#sk-container-id-1 div.sk-estimator:hover label.sk-toggleable__label-arrow:before {color: black;}#sk-container-id-1 div.sk-toggleable__content {max-height: 0;max-width: 0;overflow: hidden;text-align: left;background-color: #f0f8ff;}#sk-container-id-1 div.sk-toggleable__content pre {margin: 0.2em;color: black;border-radius: 0.25em;background-color: #f0f8ff;}#sk-container-id-1 input.sk-toggleable__control:checked~div.sk-toggleable__content {max-height: 200px;max-width: 100%;overflow: auto;}#sk-container-id-1 input.sk-toggleable__control:checked~label.sk-toggleable__label-arrow:before {content: \"▾\";}#sk-container-id-1 div.sk-estimator input.sk-toggleable__control:checked~label.sk-toggleable__label {background-color: #d4ebff;}#sk-container-id-1 div.sk-label input.sk-toggleable__control:checked~label.sk-toggleable__label {background-color: #d4ebff;}#sk-container-id-1 input.sk-hidden--visually {border: 0;clip: rect(1px 1px 1px 1px);clip: rect(1px, 1px, 1px, 1px);height: 1px;margin: -1px;overflow: hidden;padding: 0;position: absolute;width: 1px;}#sk-container-id-1 div.sk-estimator {font-family: monospace;background-color: #f0f8ff;border: 1px dotted black;border-radius: 0.25em;box-sizing: border-box;margin-bottom: 0.5em;}#sk-container-id-1 div.sk-estimator:hover {background-color: #d4ebff;}#sk-container-id-1 div.sk-parallel-item::after {content: \"\";width: 100%;border-bottom: 1px solid gray;flex-grow: 1;}#sk-container-id-1 div.sk-label:hover label.sk-toggleable__label {background-color: #d4ebff;}#sk-container-id-1 div.sk-serial::before {content: \"\";position: absolute;border-left: 1px solid gray;box-sizing: border-box;top: 0;bottom: 0;left: 50%;z-index: 0;}#sk-container-id-1 div.sk-serial {display: flex;flex-direction: column;align-items: center;background-color: white;padding-right: 0.2em;padding-left: 0.2em;position: relative;}#sk-container-id-1 div.sk-item {position: relative;z-index: 1;}#sk-container-id-1 div.sk-parallel {display: flex;align-items: stretch;justify-content: center;background-color: white;position: relative;}#sk-container-id-1 div.sk-item::before, #sk-container-id-1 div.sk-parallel-item::before {content: \"\";position: absolute;border-left: 1px solid gray;box-sizing: border-box;top: 0;bottom: 0;left: 50%;z-index: -1;}#sk-container-id-1 div.sk-parallel-item {display: flex;flex-direction: column;z-index: 1;position: relative;background-color: white;}#sk-container-id-1 div.sk-parallel-item:first-child::after {align-self: flex-end;width: 50%;}#sk-container-id-1 div.sk-parallel-item:last-child::after {align-self: flex-start;width: 50%;}#sk-container-id-1 div.sk-parallel-item:only-child::after {width: 0;}#sk-container-id-1 div.sk-dashed-wrapped {border: 1px dashed gray;margin: 0 0.4em 0.5em 0.4em;box-sizing: border-box;padding-bottom: 0.4em;background-color: white;}#sk-container-id-1 div.sk-label label {font-family: monospace;font-weight: bold;display: inline-block;line-height: 1.2em;}#sk-container-id-1 div.sk-label-container {text-align: center;}#sk-container-id-1 div.sk-container {/* jupyter's `normalize.less` sets `[hidden] { display: none; }` but bootstrap.min.css set `[hidden] { display: none !important; }` so we also need the `!important` here to be able to override the default hidden behavior on the sphinx rendered scikit-learn.org. See: https://github.com/scikit-learn/scikit-learn/issues/21755 */display: inline-block !important;position: relative;}#sk-container-id-1 div.sk-text-repr-fallback {display: none;}</style><div id=\"sk-container-id-1\" class=\"sk-top-container\"><div class=\"sk-text-repr-fallback\"><pre>XGBClassifier(base_score=None, booster=None, callbacks=None,\n",
       "              colsample_bylevel=None, colsample_bynode=None,\n",
       "              colsample_bytree=None, device=None, early_stopping_rounds=None,\n",
       "              enable_categorical=False, eval_metric=None, feature_types=None,\n",
       "              gamma=None, grow_policy=None, importance_type=None,\n",
       "              interaction_constraints=None, learning_rate=0.1, max_bin=None,\n",
       "              max_cat_threshold=None, max_cat_to_onehot=None,\n",
       "              max_delta_step=None, max_depth=3, max_leaves=None,\n",
       "              min_child_weight=None, missing=nan, monotone_constraints=None,\n",
       "              multi_strategy=None, n_estimators=50, n_jobs=None,\n",
       "              num_parallel_tree=None, objective=&#x27;multi:softprob&#x27;, ...)</pre><b>In a Jupyter environment, please rerun this cell to show the HTML representation or trust the notebook. <br />On GitHub, the HTML representation is unable to render, please try loading this page with nbviewer.org.</b></div><div class=\"sk-container\" hidden><div class=\"sk-item\"><div class=\"sk-estimator sk-toggleable\"><input class=\"sk-toggleable__control sk-hidden--visually\" id=\"sk-estimator-id-1\" type=\"checkbox\" checked><label for=\"sk-estimator-id-1\" class=\"sk-toggleable__label sk-toggleable__label-arrow\">XGBClassifier</label><div class=\"sk-toggleable__content\"><pre>XGBClassifier(base_score=None, booster=None, callbacks=None,\n",
       "              colsample_bylevel=None, colsample_bynode=None,\n",
       "              colsample_bytree=None, device=None, early_stopping_rounds=None,\n",
       "              enable_categorical=False, eval_metric=None, feature_types=None,\n",
       "              gamma=None, grow_policy=None, importance_type=None,\n",
       "              interaction_constraints=None, learning_rate=0.1, max_bin=None,\n",
       "              max_cat_threshold=None, max_cat_to_onehot=None,\n",
       "              max_delta_step=None, max_depth=3, max_leaves=None,\n",
       "              min_child_weight=None, missing=nan, monotone_constraints=None,\n",
       "              multi_strategy=None, n_estimators=50, n_jobs=None,\n",
       "              num_parallel_tree=None, objective=&#x27;multi:softprob&#x27;, ...)</pre></div></div></div></div></div>"
      ],
      "text/plain": [
       "XGBClassifier(base_score=None, booster=None, callbacks=None,\n",
       "              colsample_bylevel=None, colsample_bynode=None,\n",
       "              colsample_bytree=None, device=None, early_stopping_rounds=None,\n",
       "              enable_categorical=False, eval_metric=None, feature_types=None,\n",
       "              gamma=None, grow_policy=None, importance_type=None,\n",
       "              interaction_constraints=None, learning_rate=0.1, max_bin=None,\n",
       "              max_cat_threshold=None, max_cat_to_onehot=None,\n",
       "              max_delta_step=None, max_depth=3, max_leaves=None,\n",
       "              min_child_weight=None, missing=nan, monotone_constraints=None,\n",
       "              multi_strategy=None, n_estimators=50, n_jobs=None,\n",
       "              num_parallel_tree=None, objective='multi:softprob', ...)"
      ]
     },
     "execution_count": 16,
     "metadata": {},
     "output_type": "execute_result"
    }
   ],
   "source": [
    "# Define the parameter grid\n",
    "param_grid = {\n",
    "    'n_estimators': [50, 100, 150],\n",
    "    'max_depth': [3, 5, 7],\n",
    "    'learning_rate': [0.01, 0.1, 0.2]\n",
    "}\n",
    "\n",
    "# Initialize the XGBoost classifier\n",
    "xgb = XGBClassifier(use_label_encoder=False, eval_metric='logloss')\n",
    "\n",
    "# Perform grid search\n",
    "grid_search = GridSearchCV(estimator=xgb, param_grid=param_grid,\n",
    "                           scoring='accuracy', cv=3, verbose=1)\n",
    "\n",
    "# Fit the model\n",
    "grid_search.fit(val_sequences, val_labels)\n",
    "\n",
    "# Get the best parameters\n",
    "best_params = grid_search.best_params_\n",
    "print(f\"Best parameters: {best_params}\")\n",
    "\n",
    "# Train the final model with the best parameters on the combined training and validation set\n",
    "final_model = XGBClassifier(**best_params)\n",
    "final_model.fit(np.concatenate((train_sequences, val_sequences)), np.concatenate((train_labels, val_labels)))"
   ]
  },
  {
   "cell_type": "markdown",
   "metadata": {
    "id": "4xHISoNXvqPG"
   },
   "source": [
    "#### Testing the final model"
   ]
  },
  {
   "cell_type": "code",
   "execution_count": 17,
   "metadata": {
    "colab": {
     "base_uri": "https://localhost:8080/"
    },
    "id": "qwlu8GVavuYq",
    "outputId": "f95f1884-5c59-4853-e00c-6892f120212a"
   },
   "outputs": [
    {
     "name": "stdout",
     "output_type": "stream",
     "text": [
      "              precision    recall  f1-score   support\n",
      "\n",
      "           0       0.62      0.99      0.76       276\n",
      "           1       0.56      0.16      0.25       144\n",
      "           2       0.67      0.03      0.06        64\n",
      "\n",
      "    accuracy                           0.62       484\n",
      "   macro avg       0.62      0.39      0.36       484\n",
      "weighted avg       0.61      0.62      0.52       484\n",
      "\n",
      "Test Accuracy: 0.6157024793388429\n",
      "Test Precision: 0.6088690268946265\n",
      "Test Recall: 0.6157024793388429\n",
      "Test F1 Score: 0.516726393947955\n"
     ]
    }
   ],
   "source": [
    "# Predict on the test set\n",
    "test_predictions = final_model.predict(test_sequences)\n",
    "\n",
    "# Evaluate the final model\n",
    "test_accuracy = accuracy_score(test_labels, test_predictions)\n",
    "test_precision = precision_score(test_labels, test_predictions, average='weighted')\n",
    "test_recall = recall_score(test_labels, test_predictions, average='weighted')\n",
    "test_f1 = f1_score(test_labels, test_predictions, average='weighted')\n",
    "\n",
    "# Print classification report\n",
    "print(classification_report(test_labels, test_predictions))\n",
    "\n",
    "# Print performance metrics\n",
    "print(f\"Test Accuracy: {test_accuracy}\")\n",
    "print(f\"Test Precision: {test_precision}\")\n",
    "print(f\"Test Recall: {test_recall}\")\n",
    "print(f\"Test F1 Score: {test_f1}\")"
   ]
  },
  {
   "cell_type": "markdown",
   "metadata": {
    "id": "hh2PhqvAId8E"
   },
   "source": [
    "- **Test Accuracy (0.616)**: This indicates that the model correctly predicts the sentiment of a news headline about 61.6% of the time. While better than a random guess, there is still significant room for improvement, especially if the model is to be used in practical applications where higher accuracy may be crucial.\n",
    "\n",
    "- **Test Precision (0.609)**: Precision measures the model's ability to label as positive only those samples that are truly positive. In this context, it means that when the model predicts a sentiment (positive, negative, or neutral), it is correct approximately 60.9% of the time.\n",
    "\n",
    "- **Test Recall (0.616)**: Recall assesses the model's ability to find all the relevant cases within a dataset. The recall score suggests that the model is able to identify 61.6% of all relevant sentiments correctly.\n",
    "\n",
    "- **Test F1 Score (0.517)**: The F1 score is a weighted average of precision and recall. This score is considerably lower than the accuracy, precision, and recall, which often indicates an imbalance in the precision and recall metrics. A lower F1 score suggests that there is a trade-off between precision and recall in the model, with either false positives or false negatives being more prevalent.\n",
    "\n",
    "Overall, the model shows a **moderate performance** with relatively balanced precision and recall. However, the F1 score indicates that the model's balance between precision and recall isn't optimal, which is often more critical in practice than raw accuracy. For instance, in financial sentiment analysis, missing out on true positives (actual negative sentiment not caught) or having too many false positives (neutral or positive sentiment incorrectly labeled as negative) can lead to misinformed decisions. Therefore, it may be beneficial to further explore model adjustments, additional features, or alternative models to improve the F1 score, especially if high reliability is required for the task at hand."
   ]
  },
  {
   "cell_type": "markdown",
   "metadata": {
    "id": "jrEbKSZrwg7n"
   },
   "source": [
    "### **Create Embeddings for Textual Data Using Advanced Transformer**"
   ]
  },
  {
   "cell_type": "markdown",
   "metadata": {
    "id": "LmlvmxFMwzeO"
   },
   "source": [
    "We can find that the model performance still has space for improvement. Thus, instead of using Tokenizer and texts_to_sequences, we can leverage state-of-the-art language representation models like **BERT** (Bidirectional Encoder Representations from Transformers) to create embeddings for textual data. BERT embeddings capture the context of each word in a sentence in a way that is sensitive to the nuances and variability of language."
   ]
  },
  {
   "cell_type": "code",
   "execution_count": 18,
   "metadata": {
    "id": "trpBjfFswgP6"
   },
   "outputs": [],
   "source": [
    "tokenizer = BertTokenizer.from_pretrained('bert-base-uncased')\n",
    "model = BertModel.from_pretrained('bert-base-uncased')\n",
    "\n",
    "\"\"\"Tokenization and Encoding:\n",
    "Tokenize and encode the sentences as BERT expects them, with special tokens to mark the beginning ([CLS]) and separation/end of sentences ([SEP]).\"\"\"\n",
    "def encode_sentences(sentences):\n",
    "    input_ids = []\n",
    "    attention_masks = []\n",
    "\n",
    "    for sent in sentences:\n",
    "        encoded_dict = tokenizer.encode_plus(\n",
    "                            sent,\n",
    "                            add_special_tokens=True,    # Add '[CLS]' and '[SEP]'\n",
    "                            max_length=64,              # Pad & truncate all sentences\n",
    "                            padding='max_length',       # Pad all to max length\n",
    "                            truncation=True,            # Explicitly truncate examples to max length\n",
    "                            return_attention_mask=True, # Construct attn. masks\n",
    "                            return_tensors='pt',        # Return pytorch tensors\n",
    "                       )\n",
    "\n",
    "        input_ids.append(encoded_dict['input_ids'])\n",
    "        attention_masks.append(encoded_dict['attention_mask'])\n",
    "\n",
    "    # Convert lists to tensors.\n",
    "    input_ids = torch.cat(input_ids, dim=0)\n",
    "    attention_masks = torch.cat(attention_masks, dim=0)\n",
    "\n",
    "    return input_ids, attention_masks"
   ]
  },
  {
   "cell_type": "code",
   "execution_count": 19,
   "metadata": {
    "id": "dYSgZbI3x6Ze"
   },
   "outputs": [],
   "source": [
    "sentences = data['headline_cleaned'].tolist()\n",
    "input_ids, attention_masks = encode_sentences(sentences)"
   ]
  },
  {
   "cell_type": "markdown",
   "metadata": {
    "id": "RSz6BEEM1pWS"
   },
   "source": [
    "**Extract Embeddings:** Pass the encoded sentences to BERT to obtain the embeddings. Since this step can be resource-intensive, especially for large datasets, it's often performed in batches."
   ]
  },
  {
   "cell_type": "code",
   "execution_count": 20,
   "metadata": {
    "id": "gX6lpJ8rx6gD"
   },
   "outputs": [],
   "source": [
    "# Move the model to GPU if available\n",
    "device = torch.device(\"cuda\" if torch.cuda.is_available() else \"cpu\")\n",
    "model.to(device)\n",
    "\n",
    "# Put model in evaluation mode\n",
    "model.eval()\n",
    "\n",
    "# Initialize list to store embeddings\n",
    "embeddings = []\n",
    "\n",
    "# Encode sentences in batches\n",
    "batch_size = 32\n",
    "with torch.no_grad():\n",
    "    for i in range(0, len(input_ids), batch_size):\n",
    "        batch_input_ids = input_ids[i:i+batch_size].to(device)\n",
    "        batch_attention_masks = attention_masks[i:i+batch_size].to(device)\n",
    "        batch_embeddings = model(batch_input_ids, attention_mask=batch_attention_masks)\n",
    "\n",
    "        # Get the embeddings from the last hidden state\n",
    "        embeddings.append(batch_embeddings[0][:,0,:].detach().cpu().numpy())\n",
    "\n",
    "# Concatenate the batches\n",
    "embeddings = np.concatenate(embeddings, axis=0)"
   ]
  },
  {
   "cell_type": "markdown",
   "metadata": {
    "id": "smGcYu0p4RtB"
   },
   "source": [
    "#### Train and test on the XGBoost model"
   ]
  },
  {
   "cell_type": "code",
   "execution_count": 21,
   "metadata": {
    "colab": {
     "base_uri": "https://localhost:8080/"
    },
    "id": "z5Lxqyta4ZXX",
    "outputId": "9a05f35c-b279-4ace-f4ed-bf9898c95717"
   },
   "outputs": [
    {
     "name": "stdout",
     "output_type": "stream",
     "text": [
      "Accuracy: 0.743801652892562\n",
      "Precision: 0.7341416752517211\n",
      "Recall: 0.743801652892562\n",
      "F1 Score: 0.7317061729725071\n"
     ]
    }
   ],
   "source": [
    "# Split data into train and test sets (80/20 split)\n",
    "X_train, X_test, y_train, y_test = train_test_split(embeddings, labels, test_size=0.2, random_state=42)\n",
    "\n",
    "# Train XGBoost classifier\n",
    "xgb_model = XGBClassifier()\n",
    "xgb_model.fit(X_train, y_train)\n",
    "\n",
    "# Predictions\n",
    "y_pred = xgb_model.predict(X_test)\n",
    "\n",
    "# Performance metrics\n",
    "accuracy = accuracy_score(y_test, y_pred)\n",
    "precision = precision_score(y_test, y_pred, average='weighted')\n",
    "recall = recall_score(y_test, y_pred, average='weighted')\n",
    "f1 = f1_score(y_test, y_pred, average='weighted')\n",
    "\n",
    "print(f\"Accuracy: {accuracy}\")\n",
    "print(f\"Precision: {precision}\")\n",
    "print(f\"Recall: {recall}\")\n",
    "print(f\"F1 Score: {f1}\")"
   ]
  },
  {
   "cell_type": "markdown",
   "metadata": {
    "id": "2VCdtr9f6P_h"
   },
   "source": [
    "We can find that the XGBoost model's performance with **BERT embeddings significantly outperforms** the results obtained using the Tokenizer and texts_to_sequences approach, as evidenced by the higher values across all the evaluated metrics: accuracy, precision, recall, and F1 score.\n",
    "\n",
    "The superior performance of the BERT-based model can be attributed to its sophisticated handling of language context, its use of pre-trained knowledge via transfer learning, and its robustness to OOV words. These factors allow BERT to create embeddings that capture deeper linguistic properties than non-contextual embeddings, resulting in better model performance for complex NLP tasks like sentiment analysis."
   ]
  },
  {
   "cell_type": "markdown",
   "metadata": {
    "id": "DyraXooA6lJ2"
   },
   "source": [
    "### **Deep Learning Modeling**"
   ]
  },
  {
   "cell_type": "markdown",
   "metadata": {
    "id": "BHS6f9bMBbvJ"
   },
   "source": [
    "#### Create the datasets"
   ]
  },
  {
   "cell_type": "code",
   "execution_count": 22,
   "metadata": {
    "id": "iGm7uCjFAjC_"
   },
   "outputs": [],
   "source": [
    "# Convert the numpy arrays to PyTorch tensors\n",
    "X_train_tensor = torch.tensor(X_train, dtype=torch.float32)\n",
    "y_train_tensor = torch.tensor(y_train, dtype=torch.long)\n",
    "X_test_tensor = torch.tensor(X_test, dtype=torch.float32)\n",
    "y_test_tensor = torch.tensor(y_test, dtype=torch.long)\n",
    "\n",
    "# Create TensorDatasets\n",
    "train_dataset = TensorDataset(X_train_tensor, y_train_tensor)\n",
    "test_dataset = TensorDataset(X_test_tensor, y_test_tensor)\n",
    "\n",
    "# DataLoader objects\n",
    "batch_size = 32\n",
    "train_data_loader = DataLoader(train_dataset, batch_size=batch_size, shuffle=True)\n",
    "test_data_loader = DataLoader(test_dataset, batch_size=batch_size)"
   ]
  },
  {
   "cell_type": "markdown",
   "metadata": {
    "id": "RqXNziOzBgH_"
   },
   "source": [
    "#### Define the deep learning models and the train and evaluation pipeline"
   ]
  },
  {
   "cell_type": "code",
   "execution_count": 23,
   "metadata": {
    "id": "RAAHkum66rmH"
   },
   "outputs": [],
   "source": [
    "# 'input_size' is the size of the input features and 'output_size' is the number of classes\n",
    "input_size = embeddings.shape[1]\n",
    "output_size = 3                   # 'neutral' to 0, 'positive' to 1, and 'negative' to 2\n",
    "num_epochs = 20\n",
    "\n",
    "# Define the MLP, LSTM, and GRU models\n",
    "class MLPModel(nn.Module):\n",
    "    def __init__(self):\n",
    "        super(MLPModel, self).__init__()\n",
    "        self.fc = nn.Sequential(\n",
    "            nn.Linear(input_size, 64),\n",
    "            nn.ReLU(),\n",
    "            nn.Linear(64, output_size),\n",
    "            nn.Sigmoid(),\n",
    "        )\n",
    "\n",
    "    def forward(self, x):\n",
    "        return self.fc(x)\n",
    "\n",
    "class LSTMModel(nn.Module):\n",
    "    def __init__(self):\n",
    "        super(LSTMModel, self).__init__()\n",
    "        self.lstm = nn.LSTM(input_size, 64, batch_first=True)\n",
    "        self.fc = nn.Linear(64, output_size)\n",
    "\n",
    "    def forward(self, x):\n",
    "        out, (hidden, _) = self.lstm(x)\n",
    "        # Make sure that out has three dimensions [batch, sequence, feature]\n",
    "        out = out if out.dim() == 3 else out.unsqueeze(1)\n",
    "        return self.fc(out[:, -1, :])\n",
    "\n",
    "class GRUModel(nn.Module):\n",
    "    def __init__(self):\n",
    "        super(GRUModel, self).__init__()\n",
    "        self.gru = nn.GRU(input_size, 64, batch_first=True)\n",
    "        self.fc = nn.Linear(64, output_size)\n",
    "\n",
    "    def forward(self, x):\n",
    "        out, hidden = self.gru(x)\n",
    "        # Make sure that out has three dimensions [batch, sequence, feature]\n",
    "        out = out if out.dim() == 3 else out.unsqueeze(1)\n",
    "        return self.fc(out[:, -1, :])\n",
    "\n",
    "# Instantiate models\n",
    "mlp_model = MLPModel()\n",
    "lstm_model = LSTMModel()\n",
    "gru_model = GRUModel()"
   ]
  },
  {
   "cell_type": "code",
   "execution_count": 24,
   "metadata": {
    "id": "zvQ70RW8Bv3a"
   },
   "outputs": [],
   "source": [
    "# Training function\n",
    "def train_evaluate_dl_model(model, train_data_loader, test_data_loader, num_epochs):\n",
    "    # Move the model to the GPU if available\n",
    "    model.to(device)\n",
    "\n",
    "    # Loss function and optimizer\n",
    "    criterion = nn.CrossEntropyLoss()\n",
    "    optimizer = optim.Adam(model.parameters(), lr=0.001)\n",
    "\n",
    "    # Record losses and accuracies\n",
    "    train_losses = []\n",
    "    test_losses = []\n",
    "    test_accuracies = []\n",
    "\n",
    "    for epoch in tqdm(range(num_epochs), desc='Epochs'):\n",
    "        # Training loop\n",
    "        model.train()\n",
    "        total_loss = 0\n",
    "        for inputs, labels in train_data_loader:\n",
    "            inputs, labels = inputs.to(device), labels.to(device)\n",
    "            optimizer.zero_grad()\n",
    "            outputs = model(inputs)\n",
    "            loss = criterion(outputs, labels)\n",
    "            loss.backward()\n",
    "            optimizer.step()\n",
    "            total_loss += loss.item()\n",
    "        avg_train_loss = total_loss / len(train_data_loader)\n",
    "        train_losses.append(avg_train_loss)\n",
    "\n",
    "        # Testing loop\n",
    "        model.eval()\n",
    "        total_test_loss = 0\n",
    "        all_preds = []\n",
    "        all_labels = []\n",
    "        with torch.no_grad():\n",
    "            for inputs, labels in test_data_loader:\n",
    "                inputs, labels = inputs.to(device), labels.to(device)\n",
    "                outputs = model(inputs)\n",
    "                loss = criterion(outputs, labels)\n",
    "                total_test_loss += loss.item()\n",
    "                _, preds = torch.max(outputs, 1)\n",
    "                all_preds.extend(preds.cpu().numpy())\n",
    "                all_labels.extend(labels.cpu().numpy())\n",
    "\n",
    "        avg_test_loss = total_test_loss / len(test_data_loader)\n",
    "        test_losses.append(avg_test_loss)\n",
    "        accuracy = accuracy_score(all_labels, all_preds)\n",
    "        test_accuracies.append(accuracy)\n",
    "        tqdm.write(f'Epoch {epoch+1}/{num_epochs} - Train Loss: {avg_train_loss:.4f}, Test Loss: {avg_test_loss:.4f}, Accuracy: {accuracy:.4f}')\n",
    "\n",
    "    # Plot training and testing losses\n",
    "    plt.figure(figsize=(12, 4))\n",
    "    plt.subplot(1, 2, 1)\n",
    "    plt.plot(train_losses, label='Train Loss')\n",
    "    plt.plot(test_losses, label='Test Loss')\n",
    "    plt.title('Train & Test Loss')\n",
    "    plt.xlabel('Epochs')\n",
    "    plt.ylabel('Loss')\n",
    "    plt.legend()\n",
    "\n",
    "    # Plot test accuracy\n",
    "    plt.subplot(1, 2, 2)\n",
    "    plt.plot(test_accuracies, label='Test Accuracy')\n",
    "    plt.title('Test Accuracy')\n",
    "    plt.xlabel('Epochs')\n",
    "    plt.ylabel('Accuracy')\n",
    "    plt.legend()\n",
    "    plt.show()\n",
    "\n",
    "    # Calculate metrics\n",
    "    accuracy = accuracy_score(all_labels, all_preds)\n",
    "    precision = precision_score(all_labels, all_preds, average='weighted')\n",
    "    recall = recall_score(all_labels, all_preds, average='weighted')\n",
    "    f1 = f1_score(all_labels, all_preds, average='weighted')\n",
    "\n",
    "    return accuracy, precision, recall, f1"
   ]
  },
  {
   "cell_type": "markdown",
   "metadata": {
    "id": "y-xOpH4qBfEs"
   },
   "source": [
    "#### Train the evaluate models"
   ]
  },
  {
   "cell_type": "code",
   "execution_count": 25,
   "metadata": {
    "colab": {
     "base_uri": "https://localhost:8080/",
     "height": 1000
    },
    "id": "pMh6R_ql8T3l",
    "outputId": "283e4b29-3479-4e22-e7ad-18113d8c877b"
   },
   "outputs": [
    {
     "name": "stderr",
     "output_type": "stream",
     "text": [
      "Epochs:   5%|▌         | 1/20 [00:00<00:04,  4.23it/s]"
     ]
    },
    {
     "name": "stdout",
     "output_type": "stream",
     "text": [
      "Epoch 1/20 - Train Loss: 0.9148, Test Loss: 0.8578, Accuracy: 0.6674\n"
     ]
    },
    {
     "name": "stderr",
     "output_type": "stream",
     "text": [
      "Epochs:  10%|█         | 2/20 [00:00<00:04,  4.12it/s]"
     ]
    },
    {
     "name": "stdout",
     "output_type": "stream",
     "text": [
      "Epoch 2/20 - Train Loss: 0.8320, Test Loss: 0.8176, Accuracy: 0.6942\n"
     ]
    },
    {
     "name": "stderr",
     "output_type": "stream",
     "text": [
      "Epochs:  15%|█▌        | 3/20 [00:00<00:04,  4.14it/s]"
     ]
    },
    {
     "name": "stdout",
     "output_type": "stream",
     "text": [
      "Epoch 3/20 - Train Loss: 0.7959, Test Loss: 0.7936, Accuracy: 0.7366\n"
     ]
    },
    {
     "name": "stderr",
     "output_type": "stream",
     "text": [
      "Epochs:  20%|██        | 4/20 [00:00<00:03,  4.12it/s]"
     ]
    },
    {
     "name": "stdout",
     "output_type": "stream",
     "text": [
      "Epoch 4/20 - Train Loss: 0.7720, Test Loss: 0.7843, Accuracy: 0.7428\n"
     ]
    },
    {
     "name": "stderr",
     "output_type": "stream",
     "text": [
      "Epochs:  25%|██▌       | 5/20 [00:01<00:03,  4.06it/s]"
     ]
    },
    {
     "name": "stdout",
     "output_type": "stream",
     "text": [
      "Epoch 5/20 - Train Loss: 0.7592, Test Loss: 0.7812, Accuracy: 0.7438\n"
     ]
    },
    {
     "name": "stderr",
     "output_type": "stream",
     "text": [
      "Epochs:  30%|███       | 6/20 [00:01<00:03,  4.09it/s]"
     ]
    },
    {
     "name": "stdout",
     "output_type": "stream",
     "text": [
      "Epoch 6/20 - Train Loss: 0.7508, Test Loss: 0.7735, Accuracy: 0.7552\n"
     ]
    },
    {
     "name": "stderr",
     "output_type": "stream",
     "text": [
      "Epochs:  35%|███▌      | 7/20 [00:01<00:03,  4.11it/s]"
     ]
    },
    {
     "name": "stdout",
     "output_type": "stream",
     "text": [
      "Epoch 7/20 - Train Loss: 0.7440, Test Loss: 0.7726, Accuracy: 0.7552\n"
     ]
    },
    {
     "name": "stderr",
     "output_type": "stream",
     "text": [
      "Epochs:  40%|████      | 8/20 [00:01<00:02,  4.04it/s]"
     ]
    },
    {
     "name": "stdout",
     "output_type": "stream",
     "text": [
      "Epoch 8/20 - Train Loss: 0.7362, Test Loss: 0.7682, Accuracy: 0.7562\n"
     ]
    },
    {
     "name": "stderr",
     "output_type": "stream",
     "text": [
      "Epochs:  45%|████▌     | 9/20 [00:02<00:02,  4.09it/s]"
     ]
    },
    {
     "name": "stdout",
     "output_type": "stream",
     "text": [
      "Epoch 9/20 - Train Loss: 0.7307, Test Loss: 0.7663, Accuracy: 0.7634\n"
     ]
    },
    {
     "name": "stderr",
     "output_type": "stream",
     "text": [
      "Epochs:  50%|█████     | 10/20 [00:02<00:02,  4.15it/s]"
     ]
    },
    {
     "name": "stdout",
     "output_type": "stream",
     "text": [
      "Epoch 10/20 - Train Loss: 0.7251, Test Loss: 0.7719, Accuracy: 0.7572\n"
     ]
    },
    {
     "name": "stderr",
     "output_type": "stream",
     "text": [
      "Epochs:  55%|█████▌    | 11/20 [00:02<00:02,  4.12it/s]"
     ]
    },
    {
     "name": "stdout",
     "output_type": "stream",
     "text": [
      "Epoch 11/20 - Train Loss: 0.7228, Test Loss: 0.7640, Accuracy: 0.7665\n"
     ]
    },
    {
     "name": "stderr",
     "output_type": "stream",
     "text": [
      "Epochs:  60%|██████    | 12/20 [00:02<00:01,  4.14it/s]"
     ]
    },
    {
     "name": "stdout",
     "output_type": "stream",
     "text": [
      "Epoch 12/20 - Train Loss: 0.7176, Test Loss: 0.7599, Accuracy: 0.7676\n"
     ]
    },
    {
     "name": "stderr",
     "output_type": "stream",
     "text": [
      "Epochs:  65%|██████▌   | 13/20 [00:03<00:01,  4.12it/s]"
     ]
    },
    {
     "name": "stdout",
     "output_type": "stream",
     "text": [
      "Epoch 13/20 - Train Loss: 0.7168, Test Loss: 0.7607, Accuracy: 0.7748\n"
     ]
    },
    {
     "name": "stderr",
     "output_type": "stream",
     "text": [
      "Epochs:  70%|███████   | 14/20 [00:03<00:01,  4.14it/s]"
     ]
    },
    {
     "name": "stdout",
     "output_type": "stream",
     "text": [
      "Epoch 14/20 - Train Loss: 0.7111, Test Loss: 0.7594, Accuracy: 0.7634\n"
     ]
    },
    {
     "name": "stderr",
     "output_type": "stream",
     "text": [
      "Epochs:  75%|███████▌  | 15/20 [00:03<00:01,  4.13it/s]"
     ]
    },
    {
     "name": "stdout",
     "output_type": "stream",
     "text": [
      "Epoch 15/20 - Train Loss: 0.7091, Test Loss: 0.7584, Accuracy: 0.7707\n"
     ]
    },
    {
     "name": "stderr",
     "output_type": "stream",
     "text": [
      "Epochs:  80%|████████  | 16/20 [00:03<00:00,  4.10it/s]"
     ]
    },
    {
     "name": "stdout",
     "output_type": "stream",
     "text": [
      "Epoch 16/20 - Train Loss: 0.7078, Test Loss: 0.7593, Accuracy: 0.7707\n"
     ]
    },
    {
     "name": "stderr",
     "output_type": "stream",
     "text": [
      "Epochs:  85%|████████▌ | 17/20 [00:04<00:00,  3.91it/s]"
     ]
    },
    {
     "name": "stdout",
     "output_type": "stream",
     "text": [
      "Epoch 17/20 - Train Loss: 0.7034, Test Loss: 0.7600, Accuracy: 0.7655\n"
     ]
    },
    {
     "name": "stderr",
     "output_type": "stream",
     "text": [
      "Epochs:  90%|█████████ | 18/20 [00:04<00:00,  3.73it/s]"
     ]
    },
    {
     "name": "stdout",
     "output_type": "stream",
     "text": [
      "Epoch 18/20 - Train Loss: 0.7008, Test Loss: 0.7567, Accuracy: 0.7696\n"
     ]
    },
    {
     "name": "stderr",
     "output_type": "stream",
     "text": [
      "Epochs:  95%|█████████▌| 19/20 [00:04<00:00,  3.60it/s]"
     ]
    },
    {
     "name": "stdout",
     "output_type": "stream",
     "text": [
      "Epoch 19/20 - Train Loss: 0.6972, Test Loss: 0.7547, Accuracy: 0.7696\n"
     ]
    },
    {
     "name": "stderr",
     "output_type": "stream",
     "text": [
      "Epochs: 100%|██████████| 20/20 [00:05<00:00,  3.94it/s]\n"
     ]
    },
    {
     "name": "stdout",
     "output_type": "stream",
     "text": [
      "Epoch 20/20 - Train Loss: 0.6980, Test Loss: 0.7635, Accuracy: 0.7717\n"
     ]
    },
    {
     "data": {
      "image/png": "[encoded data removed]",
      "text/plain": [
       "<Figure size 1200x400 with 2 Axes>"
      ]
     },
     "metadata": {},
     "output_type": "display_data"
    },
    {
     "name": "stderr",
     "output_type": "stream",
     "text": [
      "Epochs:   5%|▌         | 1/20 [00:00<00:14,  1.29it/s]"
     ]
    },
    {
     "name": "stdout",
     "output_type": "stream",
     "text": [
      "Epoch 1/20 - Train Loss: 0.8005, Test Loss: 0.6535, Accuracy: 0.7056\n"
     ]
    },
    {
     "name": "stderr",
     "output_type": "stream",
     "text": [
      "Epochs:  10%|█         | 2/20 [00:01<00:10,  1.79it/s]"
     ]
    },
    {
     "name": "stdout",
     "output_type": "stream",
     "text": [
      "Epoch 2/20 - Train Loss: 0.5898, Test Loss: 0.6073, Accuracy: 0.7242\n"
     ]
    },
    {
     "name": "stderr",
     "output_type": "stream",
     "text": [
      "Epochs:  15%|█▌        | 3/20 [00:01<00:08,  2.02it/s]"
     ]
    },
    {
     "name": "stdout",
     "output_type": "stream",
     "text": [
      "Epoch 3/20 - Train Loss: 0.5205, Test Loss: 0.5592, Accuracy: 0.7510\n"
     ]
    },
    {
     "name": "stderr",
     "output_type": "stream",
     "text": [
      "Epochs:  20%|██        | 4/20 [00:01<00:07,  2.25it/s]"
     ]
    },
    {
     "name": "stdout",
     "output_type": "stream",
     "text": [
      "Epoch 4/20 - Train Loss: 0.4882, Test Loss: 0.5932, Accuracy: 0.7231\n"
     ]
    },
    {
     "name": "stderr",
     "output_type": "stream",
     "text": [
      "Epochs:  25%|██▌       | 5/20 [00:02<00:06,  2.41it/s]"
     ]
    },
    {
     "name": "stdout",
     "output_type": "stream",
     "text": [
      "Epoch 5/20 - Train Loss: 0.4554, Test Loss: 0.5277, Accuracy: 0.7686\n"
     ]
    },
    {
     "name": "stderr",
     "output_type": "stream",
     "text": [
      "Epochs:  30%|███       | 6/20 [00:02<00:05,  2.56it/s]"
     ]
    },
    {
     "name": "stdout",
     "output_type": "stream",
     "text": [
      "Epoch 6/20 - Train Loss: 0.4299, Test Loss: 0.5161, Accuracy: 0.7810\n"
     ]
    },
    {
     "name": "stderr",
     "output_type": "stream",
     "text": [
      "Epochs:  35%|███▌      | 7/20 [00:03<00:04,  2.66it/s]"
     ]
    },
    {
     "name": "stdout",
     "output_type": "stream",
     "text": [
      "Epoch 7/20 - Train Loss: 0.4096, Test Loss: 0.5297, Accuracy: 0.7676\n"
     ]
    },
    {
     "name": "stderr",
     "output_type": "stream",
     "text": [
      "Epochs:  40%|████      | 8/20 [00:03<00:04,  2.77it/s]"
     ]
    },
    {
     "name": "stdout",
     "output_type": "stream",
     "text": [
      "Epoch 8/20 - Train Loss: 0.3894, Test Loss: 0.5542, Accuracy: 0.7572\n"
     ]
    },
    {
     "name": "stderr",
     "output_type": "stream",
     "text": [
      "Epochs:  45%|████▌     | 9/20 [00:03<00:03,  2.85it/s]"
     ]
    },
    {
     "name": "stdout",
     "output_type": "stream",
     "text": [
      "Epoch 9/20 - Train Loss: 0.3625, Test Loss: 0.5387, Accuracy: 0.7738\n"
     ]
    },
    {
     "name": "stderr",
     "output_type": "stream",
     "text": [
      "Epochs:  50%|█████     | 10/20 [00:03<00:03,  2.93it/s]"
     ]
    },
    {
     "name": "stdout",
     "output_type": "stream",
     "text": [
      "Epoch 10/20 - Train Loss: 0.3414, Test Loss: 0.5315, Accuracy: 0.7789\n"
     ]
    },
    {
     "name": "stderr",
     "output_type": "stream",
     "text": [
      "Epochs:  55%|█████▌    | 11/20 [00:04<00:03,  2.97it/s]"
     ]
    },
    {
     "name": "stdout",
     "output_type": "stream",
     "text": [
      "Epoch 11/20 - Train Loss: 0.3262, Test Loss: 0.5263, Accuracy: 0.7831\n"
     ]
    },
    {
     "name": "stderr",
     "output_type": "stream",
     "text": [
      "Epochs:  60%|██████    | 12/20 [00:04<00:02,  3.02it/s]"
     ]
    },
    {
     "name": "stdout",
     "output_type": "stream",
     "text": [
      "Epoch 12/20 - Train Loss: 0.2991, Test Loss: 0.5181, Accuracy: 0.7810\n"
     ]
    },
    {
     "name": "stderr",
     "output_type": "stream",
     "text": [
      "Epochs:  65%|██████▌   | 13/20 [00:04<00:02,  3.01it/s]"
     ]
    },
    {
     "name": "stdout",
     "output_type": "stream",
     "text": [
      "Epoch 13/20 - Train Loss: 0.2804, Test Loss: 0.5558, Accuracy: 0.7665\n"
     ]
    },
    {
     "name": "stderr",
     "output_type": "stream",
     "text": [
      "Epochs:  70%|███████   | 14/20 [00:05<00:02,  2.98it/s]"
     ]
    },
    {
     "name": "stdout",
     "output_type": "stream",
     "text": [
      "Epoch 14/20 - Train Loss: 0.2603, Test Loss: 0.5405, Accuracy: 0.7779\n"
     ]
    },
    {
     "name": "stderr",
     "output_type": "stream",
     "text": [
      "Epochs:  75%|███████▌  | 15/20 [00:05<00:01,  3.02it/s]"
     ]
    },
    {
     "name": "stdout",
     "output_type": "stream",
     "text": [
      "Epoch 15/20 - Train Loss: 0.2399, Test Loss: 0.5530, Accuracy: 0.7665\n"
     ]
    },
    {
     "name": "stderr",
     "output_type": "stream",
     "text": [
      "Epochs:  80%|████████  | 16/20 [00:05<00:01,  3.06it/s]"
     ]
    },
    {
     "name": "stdout",
     "output_type": "stream",
     "text": [
      "Epoch 16/20 - Train Loss: 0.2224, Test Loss: 0.5504, Accuracy: 0.7748\n"
     ]
    },
    {
     "name": "stderr",
     "output_type": "stream",
     "text": [
      "Epochs:  85%|████████▌ | 17/20 [00:06<00:00,  3.05it/s]"
     ]
    },
    {
     "name": "stdout",
     "output_type": "stream",
     "text": [
      "Epoch 17/20 - Train Loss: 0.2054, Test Loss: 0.5589, Accuracy: 0.7820\n"
     ]
    },
    {
     "name": "stderr",
     "output_type": "stream",
     "text": [
      "Epochs:  90%|█████████ | 18/20 [00:06<00:00,  3.07it/s]"
     ]
    },
    {
     "name": "stdout",
     "output_type": "stream",
     "text": [
      "Epoch 18/20 - Train Loss: 0.1790, Test Loss: 0.5605, Accuracy: 0.7779\n"
     ]
    },
    {
     "name": "stderr",
     "output_type": "stream",
     "text": [
      "Epochs:  95%|█████████▌| 19/20 [00:06<00:00,  3.09it/s]"
     ]
    },
    {
     "name": "stdout",
     "output_type": "stream",
     "text": [
      "Epoch 19/20 - Train Loss: 0.1659, Test Loss: 0.5610, Accuracy: 0.7727\n"
     ]
    },
    {
     "name": "stderr",
     "output_type": "stream",
     "text": [
      "Epochs: 100%|██████████| 20/20 [00:07<00:00,  2.75it/s]\n"
     ]
    },
    {
     "name": "stdout",
     "output_type": "stream",
     "text": [
      "Epoch 20/20 - Train Loss: 0.1532, Test Loss: 0.5789, Accuracy: 0.7851\n"
     ]
    },
    {
     "data": {
      "image/png": "[encoded data removed]",
      "text/plain": [
       "<Figure size 1200x400 with 2 Axes>"
      ]
     },
     "metadata": {},
     "output_type": "display_data"
    },
    {
     "name": "stderr",
     "output_type": "stream",
     "text": [
      "Epochs:   5%|▌         | 1/20 [00:00<00:06,  3.00it/s]"
     ]
    },
    {
     "name": "stdout",
     "output_type": "stream",
     "text": [
      "Epoch 1/20 - Train Loss: 0.7727, Test Loss: 0.6382, Accuracy: 0.7087\n"
     ]
    },
    {
     "name": "stderr",
     "output_type": "stream",
     "text": [
      "Epochs:  10%|█         | 2/20 [00:00<00:05,  3.04it/s]"
     ]
    },
    {
     "name": "stdout",
     "output_type": "stream",
     "text": [
      "Epoch 2/20 - Train Loss: 0.5747, Test Loss: 0.5693, Accuracy: 0.7397\n"
     ]
    },
    {
     "name": "stderr",
     "output_type": "stream",
     "text": [
      "Epochs:  15%|█▌        | 3/20 [00:00<00:05,  3.10it/s]"
     ]
    },
    {
     "name": "stdout",
     "output_type": "stream",
     "text": [
      "Epoch 3/20 - Train Loss: 0.5107, Test Loss: 0.5386, Accuracy: 0.7665\n"
     ]
    },
    {
     "name": "stderr",
     "output_type": "stream",
     "text": [
      "Epochs:  20%|██        | 4/20 [00:01<00:05,  3.11it/s]"
     ]
    },
    {
     "name": "stdout",
     "output_type": "stream",
     "text": [
      "Epoch 4/20 - Train Loss: 0.4737, Test Loss: 0.5444, Accuracy: 0.7417\n"
     ]
    },
    {
     "name": "stderr",
     "output_type": "stream",
     "text": [
      "Epochs:  25%|██▌       | 5/20 [00:01<00:04,  3.07it/s]"
     ]
    },
    {
     "name": "stdout",
     "output_type": "stream",
     "text": [
      "Epoch 5/20 - Train Loss: 0.4490, Test Loss: 0.5277, Accuracy: 0.7583\n"
     ]
    },
    {
     "name": "stderr",
     "output_type": "stream",
     "text": [
      "Epochs:  30%|███       | 6/20 [00:01<00:04,  3.05it/s]"
     ]
    },
    {
     "name": "stdout",
     "output_type": "stream",
     "text": [
      "Epoch 6/20 - Train Loss: 0.4197, Test Loss: 0.5367, Accuracy: 0.7717\n"
     ]
    },
    {
     "name": "stderr",
     "output_type": "stream",
     "text": [
      "Epochs:  35%|███▌      | 7/20 [00:02<00:04,  3.04it/s]"
     ]
    },
    {
     "name": "stdout",
     "output_type": "stream",
     "text": [
      "Epoch 7/20 - Train Loss: 0.3974, Test Loss: 0.5151, Accuracy: 0.7758\n"
     ]
    },
    {
     "name": "stderr",
     "output_type": "stream",
     "text": [
      "Epochs:  40%|████      | 8/20 [00:02<00:03,  3.06it/s]"
     ]
    },
    {
     "name": "stdout",
     "output_type": "stream",
     "text": [
      "Epoch 8/20 - Train Loss: 0.3758, Test Loss: 0.5386, Accuracy: 0.7645\n"
     ]
    },
    {
     "name": "stderr",
     "output_type": "stream",
     "text": [
      "Epochs:  45%|████▌     | 9/20 [00:02<00:03,  3.07it/s]"
     ]
    },
    {
     "name": "stdout",
     "output_type": "stream",
     "text": [
      "Epoch 9/20 - Train Loss: 0.3558, Test Loss: 0.5519, Accuracy: 0.7645\n"
     ]
    },
    {
     "name": "stderr",
     "output_type": "stream",
     "text": [
      "Epochs:  50%|█████     | 10/20 [00:03<00:03,  3.09it/s]"
     ]
    },
    {
     "name": "stdout",
     "output_type": "stream",
     "text": [
      "Epoch 10/20 - Train Loss: 0.3484, Test Loss: 0.5819, Accuracy: 0.7500\n"
     ]
    },
    {
     "name": "stderr",
     "output_type": "stream",
     "text": [
      "Epochs:  55%|█████▌    | 11/20 [00:03<00:02,  3.06it/s]"
     ]
    },
    {
     "name": "stdout",
     "output_type": "stream",
     "text": [
      "Epoch 11/20 - Train Loss: 0.3355, Test Loss: 0.5680, Accuracy: 0.7634\n"
     ]
    },
    {
     "name": "stderr",
     "output_type": "stream",
     "text": [
      "Epochs:  60%|██████    | 12/20 [00:03<00:02,  3.07it/s]"
     ]
    },
    {
     "name": "stdout",
     "output_type": "stream",
     "text": [
      "Epoch 12/20 - Train Loss: 0.2985, Test Loss: 0.5377, Accuracy: 0.7789\n"
     ]
    },
    {
     "name": "stderr",
     "output_type": "stream",
     "text": [
      "Epochs:  65%|██████▌   | 13/20 [00:04<00:02,  2.92it/s]"
     ]
    },
    {
     "name": "stdout",
     "output_type": "stream",
     "text": [
      "Epoch 13/20 - Train Loss: 0.2750, Test Loss: 0.5865, Accuracy: 0.7614\n"
     ]
    },
    {
     "name": "stderr",
     "output_type": "stream",
     "text": [
      "Epochs:  70%|███████   | 14/20 [00:04<00:02,  2.74it/s]"
     ]
    },
    {
     "name": "stdout",
     "output_type": "stream",
     "text": [
      "Epoch 14/20 - Train Loss: 0.2639, Test Loss: 0.5673, Accuracy: 0.7686\n"
     ]
    },
    {
     "name": "stderr",
     "output_type": "stream",
     "text": [
      "Epochs:  75%|███████▌  | 15/20 [00:05<00:01,  2.67it/s]"
     ]
    },
    {
     "name": "stdout",
     "output_type": "stream",
     "text": [
      "Epoch 15/20 - Train Loss: 0.2353, Test Loss: 0.5475, Accuracy: 0.7831\n"
     ]
    },
    {
     "name": "stderr",
     "output_type": "stream",
     "text": [
      "Epochs:  80%|████████  | 16/20 [00:05<00:01,  2.64it/s]"
     ]
    },
    {
     "name": "stdout",
     "output_type": "stream",
     "text": [
      "Epoch 16/20 - Train Loss: 0.2097, Test Loss: 0.5689, Accuracy: 0.7779\n"
     ]
    },
    {
     "name": "stderr",
     "output_type": "stream",
     "text": [
      "Epochs:  85%|████████▌ | 17/20 [00:05<00:01,  2.58it/s]"
     ]
    },
    {
     "name": "stdout",
     "output_type": "stream",
     "text": [
      "Epoch 17/20 - Train Loss: 0.2098, Test Loss: 0.5927, Accuracy: 0.7789\n"
     ]
    },
    {
     "name": "stderr",
     "output_type": "stream",
     "text": [
      "Epochs:  90%|█████████ | 18/20 [00:06<00:00,  2.54it/s]"
     ]
    },
    {
     "name": "stdout",
     "output_type": "stream",
     "text": [
      "Epoch 18/20 - Train Loss: 0.1824, Test Loss: 0.5739, Accuracy: 0.7738\n"
     ]
    },
    {
     "name": "stderr",
     "output_type": "stream",
     "text": [
      "Epochs:  95%|█████████▌| 19/20 [00:06<00:00,  2.49it/s]"
     ]
    },
    {
     "name": "stdout",
     "output_type": "stream",
     "text": [
      "Epoch 19/20 - Train Loss: 0.1644, Test Loss: 0.5761, Accuracy: 0.7851\n"
     ]
    },
    {
     "name": "stderr",
     "output_type": "stream",
     "text": [
      "Epochs: 100%|██████████| 20/20 [00:07<00:00,  2.80it/s]\n"
     ]
    },
    {
     "name": "stdout",
     "output_type": "stream",
     "text": [
      "Epoch 20/20 - Train Loss: 0.1492, Test Loss: 0.5905, Accuracy: 0.7872\n"
     ]
    },
    {
     "data": {
      "image/png": "[encoded data removed]",
      "text/plain": [
       "<Figure size 1200x400 with 2 Axes>"
      ]
     },
     "metadata": {},
     "output_type": "display_data"
    }
   ],
   "source": [
    "# Train and evaluate MLP\n",
    "mlp_metrics = train_evaluate_dl_model(mlp_model, train_data_loader, test_data_loader, num_epochs)\n",
    "\n",
    "# Train and evaluate LSTM\n",
    "lstm_metrics = train_evaluate_dl_model(lstm_model, train_data_loader, test_data_loader, num_epochs)\n",
    "\n",
    "# Train and evaluate GRU\n",
    "gru_metrics = train_evaluate_dl_model(gru_model, train_data_loader, test_data_loader, num_epochs)"
   ]
  },
  {
   "cell_type": "markdown",
   "metadata": {
    "id": "YSb1YEkgK2Bn"
   },
   "source": [
    "Some analysis for LSTM & GRU graphs:\n",
    "* **Train & Test Loss Graph**: This graph shows that the training loss decreases steadily as the number of epochs increases, indicating that the model is learning from the training data over time. However, the testing loss remains relatively flat after an initial decrease, suggesting that the model might not be improving its performance on the test data as much after the initial learning phase. This could be a sign of overfitting, where the model is learning the training data too well but is not generalizing effectively to new, unseen data.\n",
    "\n",
    "* **Test Accuracy Graph**: The test accuracy fluctuates as the number of epochs increases, but overall, there is an upward trend. This suggests that the model is getting better at making correct predictions on the test dataset over time. However, the fluctuations indicate that the model's learning is not entirely stable, which could be due to a variety of factors such as the complexity of the model, the nature of the data, or the learning rate.\n",
    "\n",
    "Overall, the model seems to be learning and improving in terms of accuracy on the test set, but the discrepancy between the training loss and testing loss could be a concern that needs to be addressed, possibly by implementing techniques to reduce overfitting such as regularization, dropout, or by collecting more diverse training data."
   ]
  },
  {
   "cell_type": "markdown",
   "metadata": {
    "id": "af0uPmBuC5Df"
   },
   "source": [
    "#### Plot the performance"
   ]
  },
  {
   "cell_type": "code",
   "execution_count": 26,
   "metadata": {
    "colab": {
     "base_uri": "https://localhost:8080/",
     "height": 607
    },
    "id": "K7KgC1t5C7BJ",
    "outputId": "d28570f7-7cf8-4641-a61c-b1851c133c45"
   },
   "outputs": [
    {
     "data": {
      "image/png": "[encoded data removed]",
      "text/plain": [
       "<Figure size 1000x600 with 1 Axes>"
      ]
     },
     "metadata": {},
     "output_type": "display_data"
    }
   ],
   "source": [
    "# Labels for the metrics\n",
    "labels = ['Accuracy', 'Precision', 'Recall', 'F1 Score']\n",
    "\n",
    "# Values for each model\n",
    "mlp_values = list(mlp_metrics)\n",
    "lstm_values = list(lstm_metrics)\n",
    "gru_values = list(gru_metrics)\n",
    "\n",
    "# Setting the positions and width for the bars\n",
    "pos = np.arange(len(labels))\n",
    "bar_width = 0.2\n",
    "\n",
    "# Plotting\n",
    "fig, ax = plt.subplots(figsize=(10, 6))\n",
    "plt.bar(pos, mlp_values, bar_width, label='MLP', alpha=0.5, color='red')\n",
    "plt.bar(pos + bar_width, lstm_values, bar_width, label='LSTM', alpha=0.5, color='blue')\n",
    "plt.bar(pos + bar_width * 2, gru_values, bar_width, label='GRU', alpha=0.5, color='green')\n",
    "\n",
    "# Adding the values on top of the bars\n",
    "for i in range(len(labels)):\n",
    "    plt.text(i - bar_width/2, mlp_values[i] + 0.01, f'{mlp_values[i]:.2f}', ha='center')\n",
    "    plt.text(i + bar_width/2, lstm_values[i] + 0.01, f'{lstm_values[i]:.2f}', ha='center')\n",
    "    plt.text(i + bar_width * 1.5, gru_values[i] + 0.01, f'{gru_values[i]:.2f}', ha='center')\n",
    "\n",
    "# Adding labels and title\n",
    "plt.xlabel('Metrics')\n",
    "plt.ylabel('Values')\n",
    "plt.title('Comparison of MLP, LSTM, and GRU Performance Metrics')\n",
    "plt.xticks(pos + bar_width, labels)\n",
    "plt.legend()\n",
    "plt.tight_layout()\n",
    "plt.show()"
   ]
  },
  {
   "cell_type": "markdown",
   "metadata": {
    "id": "XkzY9ZsTEViD"
   },
   "source": [
    "From the performance metrics, it is evident that both **LSTM (Long Short-Term Memory) and GRU (Gated Recurrent Unit)** models **exhibit superior performance** compared to the MLP (Multi-Layer Perceptron) model and the traditional ML models. This enhanced performance can be attributed to the fact that LSTM and GRU are designed to **capture temporal dependencies and relationships in sequential data**, which are prevalent in tasks like sentiment analysis of text. They effectively overcome the challenge of long-term dependencies, a limitation often encountered in simpler architectures like MLP.\n",
    "\n",
    "Between LSTM and GRU, although both show comparable performance, **GRU has a distinct advantage in terms of training efficiency**. GRU's architecture is less complex than LSTM as it uses fewer parameters. This simplicity leads to faster training times while still maintaining the ability to capture temporal dynamics effectively. Given the balance between performance and computational efficiency, **GRU emerges as the more practical choice for our final model**. This decision is especially beneficial in scenarios where model training time and resource utilization are critical considerations."
   ]
  },
  {
   "cell_type": "markdown",
   "metadata": {
    "id": "PZ4YYoFqMu86"
   },
   "source": [
    "### **Final Model**\n",
    "The chosen model is a **Gated Recurrent Unit (GRU)** neural network which utilizes BERT embeddings as input. GRUs are a type of recurrent neural network (RNN) that can capture dependencies in sequential data, making them suitable for text analysis tasks like sentiment classification. The **BERT embeddings** serve as the independent variables, providing a rich, context-aware numerical representation of the text data from the **'headline_cleaned' column**. The dependent variable is the sentiment of the financial headlines, which the model predicts as one of three classes: neutral, positive, or negative. The GRU model learns to map the input embeddings to the correct sentiment class by adjusting the weights of its network during training. This process enables the model to infer the underlying sentiment from the structure and context encapsulated within the financial headlines."
   ]
  },
  {
   "cell_type": "markdown",
   "metadata": {
    "id": "07Z5_0kNKHQ9"
   },
   "source": [
    "## **Summary & Next Steps**"
   ]
  },
  {
   "cell_type": "markdown",
   "metadata": {
    "id": "6lI0YabSMAqo"
   },
   "source": [
    "**Summary of Modeling Results:**\n",
    "\n",
    "The modeling experiments have shown that the use of different encoding techniques can have a substantial impact on the performance of predictive models. The XGBoost model, coupled with Tokenizer and texts_to_sequences encoding, yielded moderate results with an accuracy and recall of approximately 61.57% and a slightly lower F1 score of 51.67%. In contrast, **the GRU model, which utilized BERT embeddings for text encoding**, significantly outperformed the XGBoost model, achieving a consistent **accuracy, precision, recall, and F1 score of 79%**. The improvement with GRU could be attributed to BERT's sophisticated understanding of language context and nuances, especially beneficial for the complexity of financial texts.\n",
    "\n",
    "**Next Steps:**\n",
    "\n",
    "To enhance the GRU model further, the following steps are recommended:\n",
    "\n",
    "1. **Adding More Hidden Layers**: Introduce additional hidden layers to the GRU model to capture more complex relationships within the data.\n",
    "\n",
    "2. **Hyperparameter Tuning**: Experiment with different hyperparameters such as learning rate, batch size, and number of GRU units to optimize model performance.\n",
    "\n",
    "3. **Customized Financial Embeddings**: Explore domain-specific embeddings like FinBERT, which is trained on financial texts, for potentially improved semantic understanding.\n",
    "\n",
    "4. **Model Stabilization**: Implement techniques like dropout, batch normalization, or gradient clipping to make the learning process more stable and to mitigate overfitting.\n",
    "\n",
    "5. **Extended Validation**: Validate the model using a more extensive range of financial texts to ensure robustness and generalizability.\n",
    "\n",
    "By focusing on these areas, there is potential to further refine the model's predictive accuracy and ensure that it is robust and generalizable across various financial contexts."
   ]
  }
 ],
 "metadata": {
  "accelerator": "GPU",
  "colab": {
   "gpuType": "T4",
   "provenance": []
  },
  "kernelspec": {
   "display_name": "Python 3 (ipykernel)",
   "language": "python",
   "name": "python3"
  },
  "language_info": {
   "codemirror_mode": {
    "name": "ipython",
    "version": 3
   },
   "file_extension": ".py",
   "mimetype": "text/x-python",
   "name": "python",
   "nbconvert_exporter": "python",
   "pygments_lexer": "ipython3",
   "version": "3.8.3"
  }
 },
 "nbformat": 4,
 "nbformat_minor": 1
}
